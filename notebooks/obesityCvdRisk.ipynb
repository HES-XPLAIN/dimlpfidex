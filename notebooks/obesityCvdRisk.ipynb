{
 "cells": [
  {
   "cell_type": "markdown",
   "metadata": {},
   "source": [
    "# Exploring Random Forest and Fidex rule generation for obesity risk classification\n",
    "\n",
    "**Introduction:**\n",
    "\n",
    "Welcome to HES-Xplain, our interactive platform designed to facilitate explainable artificial intelligence (XAI) techniques. In this use case, we dive into obesity risk classification and showcase another application example of explainability techniques.\n",
    "\n",
    "This notebook is an alternative to the [`Exploring Dimlp and Fidex rule generation for breast cancer classification`](TODO). It aims to be similar but aims to use a different dataset and training model to show the versatility of our explainability tools.  In addition, we will cover how to pre-process a dataset that is not initially usable by a model and convert it to an exploitable dataset.\n",
    "\n",
    "**Objectives:**\n",
    "    1. Observe a different use case where XAI can be used\n",
    "    2. Understand how to pre-process data \n",
    "    3. Understand how to use Dimlp and Fidex.\n",
    "    4. Showcase the versatility of HES-Xplain using a different dataset and training model.\n",
    "    5. Provide practical insights into applying Random Forests and Fidex to breast cancer classifiers through an interactive notebook.\n",
    "    6. Foster a community of XAI enthusiasts and practitioners.\n",
    "\n",
    "**Outline:**\n",
    "\n",
    "    1. Dataset and Problem Statement.\n",
    "    2. Load and pre-process the dataset.\n",
    "    3. Train the Model.\n",
    "    4. Local rules generation - Fidex\n",
    "    5. Global ruleSet generation - FidexGlo\n",
    "    6. Conclusion.\n",
    "\n",
    "Through this use case, we aim to empower users to grasp the potential of Random Forests and Fidex as tools for transparent and interpretable classification. With HES-Xplain, we make XAI accessible, helping users build trust in their models and make informed decisions."
   ]
  },
  {
   "cell_type": "markdown",
   "metadata": {},
   "source": [
    "# Dataset and Problem Statement\n",
    "The dataset we'll be working with is called the [obesity or CVD risk](https://www.kaggle.com/datasets/aravindpcoder/obesity-or-cvd-risk-classifyregressorcluster/data) and is accessible on [Kaggle](https://www.kaggle.com). It comprises 2111 records of anonymized data pertaining to South American individuals and their dietary habits. In this notebook, our focus is on tackling another prevalent medical challenge: classifying the risk of obesity based on various factors. These factors, drawn from the dataset, are outlined below with their original names:\n",
    "\n",
    "| **Full name**                             | **Used label** |                                                        **Values/Ranges**                                                       | **Description**                                                                     |\n",
    "|-------------------------------------------|:--------------:|:------------------------------------------------------------------------------------------------------------------------------:|-------------------------------------------------------------------------------------|\n",
    "| Gender                                    |     Gender     |                                                          Male, Female                                                          | Person's biological gender                                                          |\n",
    "| Age                                       |       Age      |                                                             [14:61]                                                            | Person's age in years                                                               |\n",
    "| Height                                    |     Height     |                                                           [1.45:1.98]                                                          | Person's height in meters                                                           |\n",
    "| Weight                                    |     Weight     |                                                            [39:173]                                                            | Person's weight in kilograms                                                        |\n",
    "| Family history with overweight            |      FHWO      |                                                             yes, no                                                            | Whether the person has at least one sibling that suffers or suffered of overweight  |\n",
    "| Frequent consumption of high-caloric food |      FAVC      |                                                             yes, no                                                            | Whether the person is frequently consuming high-caloric food                        |\n",
    "| Frequency of consumption of vegetables    |      FCVC      |                                                              [1:3]                                                             | Leveled frequency of consumption of vegetables                                      |\n",
    "| Number of main meals                      |       NCP      |                                                              [1:4]                                                             | Person's number of main meals during a day                                          |\n",
    "| Consumption of food between meals         |      CAEC      |                                                no, sometimes, frequently, always                                               | Person's consumption of food between main meals frequency per day                   |\n",
    "| Smoker or not                             |      SMOKE     |                                                             yes, no                                                            | Whether the person smokes                                                           |\n",
    "| Consumption of water daily                |      CH20      |                                                              [1:3]                                                             | Numeric representation of water consumption frequency per day                       |\n",
    "| Calories consumption monitoring           |       SCC      |                                                             yes, no                                                            | Whether the person is monitoring his daily calories intake                          |\n",
    "| Physical activity frequency               |       FAF      |                                                              [0:3]                                                             | Numeric representation of physical activity frequency per week                      |\n",
    "| Time using technology devices             |       TUE      |                                                              [0:2]                                                             | Numeric representation of electronic devices use frequency per day                  |\n",
    "| Consumption of alcohol                    |      CALC      |                                                no, sometimes, frequently, always                                               | Frequency of alcohol consumption                                                    |\n",
    "| Transportation used                       |     MTRANS     |                                   Public_Transportation, Automobile, Bike, Motorbike, Walking                                  | Medium usually used to transit                                                      |\n",
    "| Obesity level deducted                    |       OLD      | Insufficient_Weight, Normal_Weight, Overweight_Level_I, Overweight_Level_II, Obesity_Type_I, Obesity_Type_II, Obesity_Type_III | Obesity level observed according to the interpretation of the person's BMI          |\n",
    "\n",
    "In our case, we look forward to training a random forest model to classify the obesity level deducted from all the other features. To do so, we need to slightly modify the original dataset to convert several features to be digestible by the model."
   ]
  },
  {
   "cell_type": "markdown",
   "metadata": {},
   "source": [
    "# Load and pre-process the dataset\n",
    "To kick things off, we'll begin by simplifying the names of the columns and taking a look at the CSV file containing the raw data:"
   ]
  },
  {
   "cell_type": "code",
   "execution_count": null,
   "metadata": {
    "metadata": {}
   },
   "outputs": [],
   "source": [
    "import pandas as pd\n",
    "\n",
    "# silence warnings concerning replace() method being removed on pandas 3.0\n",
    "pd.set_option('future.no_silent_downcasting', True)\n",
    "\n",
    "dataset = pd.read_csv(\"data/OCDDataset/ObesityDataSet.csv\")\n",
    "\n",
    "# reducing labels names size\n",
    "dataset.rename(\n",
    "    columns={\n",
    "        \"family_history_with_overweight\": \"FHWO\",\n",
    "        \"NObeyesdad\": \"OLD\",\n",
    "    },\n",
    "    inplace=True\n",
    ")\n",
    "\n",
    "# shuffle the entire dataset\n",
    "dataset = dataset.sample(frac=1)\n",
    "\n",
    "nrows = dataset.shape[0]\n",
    "nrowsWanted = int(nrows * 0.5) # using half of the dataset\n",
    "\n",
    "dataset = dataset.iloc[:(nrows),:]\n",
    "\n",
    "dataset.head()"
   ]
  },
  {
   "cell_type": "markdown",
   "metadata": {},
   "source": [
    "You can observe a sample of the dataset. To make the dataset more compatible with machine learning, we'll start by converting features that have \"yes\" or \"no\" values into their boolean representation:"
   ]
  },
  {
   "cell_type": "code",
   "execution_count": null,
   "metadata": {
    "metadata": {}
   },
   "outputs": [],
   "source": [
    "# TODO: convert values\n",
    "strToBinDict = {\"yes\": 1, \"no\": 0}\n",
    "dataset[\"FHWO\"] = dataset[\"FHWO\"].replace(strToBinDict).astype(\"int8\")\n",
    "dataset[\"FAVC\"] = dataset[\"FAVC\"].replace(strToBinDict).astype(\"int8\")\n",
    "dataset[\"SMOKE\"] = dataset[\"SMOKE\"].replace(strToBinDict).astype(\"int8\")\n",
    "dataset[\"SCC\"] = dataset[\"SCC\"].replace(strToBinDict).astype(\"int8\")\n",
    "dataset.head()"
   ]
  },
  {
   "cell_type": "markdown",
   "metadata": {},
   "source": [
    "We will convert the `CAEC` and `CALC` columns, which contain the values \"Always,\" \"Frequently,\" \"Sometimes,\" and \"no,\" into a numerical scale from 0.00 to 1.00 based on their frequency. Here's the conversion table:\n",
    "\n",
    "| **Adjective** | **Conversion Value** |\n",
    "|---------------|:--------------------:|\n",
    "| Always        |         1.0          |\n",
    "| Frequently    |         0.66         |\n",
    "| Sometimes     |         0.33         |\n",
    "| no            |         0.0          |\n",
    "\n",
    "We'll apply a similar procedure as before to achieve this:"
   ]
  },
  {
   "cell_type": "code",
   "execution_count": null,
   "metadata": {
    "metadata": {}
   },
   "outputs": [],
   "source": [
    "adjToValDict = {\"Always\": 1.0, \"Frequently\": 0.66, \"Sometimes\": 0.33, \"no\": 0.0}\n",
    "dataset[\"CAEC\"] = dataset[\"CAEC\"].replace(adjToValDict).astype('float64')\n",
    "dataset[\"CALC\"] = dataset[\"CALC\"].replace(adjToValDict).astype('float64')\n",
    "dataset.head()"
   ]
  },
  {
   "cell_type": "markdown",
   "metadata": {},
   "source": [
    "We'll address three additional columns named Gender, MTRANS, and OLD, which currently contain non-numerical values. These values represent individual options and cannot be quantified using a scale like before. Instead, we'll encode them using a technique called \"one hot encoding.\" This technique will assign a binary value to each option, representing its presence or absence. Let's proceed with applying one hot encoding:"
   ]
  },
  {
   "cell_type": "code",
   "execution_count": null,
   "metadata": {
    "metadata": {}
   },
   "outputs": [],
   "source": [
    "genderCols = pd.get_dummies(dataset[\"Gender\"], prefix=\"Gender\",prefix_sep='_', dtype='int8')\n",
    "mtransCols = pd.get_dummies(dataset[\"MTRANS\"], prefix=\"MTRANS\",prefix_sep='_', dtype='int8')\n",
    "oldCols = pd.get_dummies(dataset[\"OLD\"], prefix=\"OLD\",prefix_sep='_', dtype='int8')\n",
    "dataset = pd.concat([genderCols, dataset.iloc[:,:16], mtransCols,  dataset.iloc[:,16:], oldCols], axis=1)\n",
    "dataset.drop([\"Gender\", \"MTRANS\", \"OLD\"], axis=1, inplace=True)\n",
    "dataset.head()"
   ]
  },
  {
   "cell_type": "markdown",
   "metadata": {},
   "source": [
    "Now that our dataset is prepared to be used, let's ensure the data's integrity by verifying some information, starting with a general overview of our columns:"
   ]
  },
  {
   "cell_type": "code",
   "execution_count": null,
   "metadata": {
    "metadata": {}
   },
   "outputs": [],
   "source": [
    "dataset.info()"
   ]
  },
  {
   "cell_type": "markdown",
   "metadata": {},
   "source": [
    "Next, let's verify that there are no missing values in our dataset:"
   ]
  },
  {
   "cell_type": "code",
   "execution_count": null,
   "metadata": {
    "metadata": {}
   },
   "outputs": [],
   "source": [
    "dataset.isnull().sum()"
   ]
  },
  {
   "cell_type": "markdown",
   "metadata": {},
   "source": [
    "Now, we'll ensure that there are no duplicated records in our dataset:"
   ]
  },
  {
   "cell_type": "code",
   "execution_count": null,
   "metadata": {
    "metadata": {}
   },
   "outputs": [],
   "source": [
    "dataset = dataset.drop_duplicates()\n",
    "dataset.duplicated().sum()"
   ]
  },
  {
   "cell_type": "markdown",
   "metadata": {},
   "source": [
    "Lastly, we need to split our dataset into two distinct datasets, one for the training process and the other for the tests process. Then write them in separate files to allow them to be used by the model. "
   ]
  },
  {
   "cell_type": "code",
   "execution_count": null,
   "metadata": {
    "metadata": {}
   },
   "outputs": [],
   "source": [
    "nRecords = dataset.shape[0]\n",
    "trainSplit = int(0.75 * nRecords)\n",
    "\n",
    "trainds = dataset.iloc[:trainSplit, :]\n",
    "testds = dataset.iloc[trainSplit:, :]\n",
    "\n",
    "print(\n",
    "f\"\"\"\n",
    "Total number of records:\\t{nRecords}\n",
    "Number of records for training:\\t{trainds.shape[0]}\n",
    "Number of records for testing:\\t{testds.shape[0]}\n",
    "\"\"\"\n",
    ")"
   ]
  },
  {
   "cell_type": "code",
   "execution_count": null,
   "metadata": {
    "metadata": {}
   },
   "outputs": [],
   "source": [
    "# We are writing .txt files to comply with our random forest algorithm\n",
    "path = \"data/OCDDataset/\"\n",
    "trainDataFile = \"train_dataset.txt\"\n",
    "testDataFile = \"test_dataset.txt\"\n",
    "\n",
    "trainds.to_csv(path + trainDataFile, header=False, index=False)\n",
    "testds.to_csv(path + testDataFile, header=False, index=False)"
   ]
  },
  {
   "cell_type": "markdown",
   "metadata": {},
   "source": [
    "Now that our data is ready and checked for any missing or duplicate values, we're all set to move on to the next step. In the upcoming chapter, we'll use our prepared dataset to train our Random Forest model."
   ]
  },
  {
   "cell_type": "markdown",
   "metadata": {},
   "source": [
    "# Train the Model"
   ]
  },
  {
   "cell_type": "markdown",
   "metadata": {},
   "source": [
    "Let's dig into the main part of our task: training our model. To do so, we're going to use a type of model called random forests. Random forests are a type of machine learning model that works by creating a multitude of decision trees during training. Each tree independently makes predictions, and the final prediction is determined by averaging the predictions of all the trees (for regression tasks) or taking a majority vote (for classification tasks). \n",
    "\n",
    "In this case, we are going to use a Python program called [randForestsTrn](https://github.com/HES-XPLAIN/dimlpfidex/blob/main/trainings/randForestsTrn.py). Let's begin with importing the script and printing its help message to observe every option available:"
   ]
  },
  {
   "cell_type": "code",
   "execution_count": null,
   "metadata": {
    "metadata": {}
   },
   "outputs": [],
   "source": [
    "from trainings.randForestsTrn import randForestsTrn as randomForest\n",
    "\n",
    "randomForest(\"--help\")\n"
   ]
  },
  {
   "cell_type": "markdown",
   "metadata": {},
   "source": [
    "The output shows several options available. From all those, we're going to focus on the required parameters (and the `--root_folder` for convenience purposes) only for now. We already have the train and test data files (generated in the last chapter). Now we just have to get the number of attributes and number of classes. As we know, the original class is `OLD`, as it has been one hotted. We need to count the number of labels with the `OLD` prefix. "
   ]
  },
  {
   "cell_type": "code",
   "execution_count": null,
   "metadata": {
    "metadata": {}
   },
   "outputs": [],
   "source": [
    "labels = list(dataset.columns)\n",
    "\n",
    "nclasses = sum(1 for label in labels if label.startswith(\"OLD_\"))\n",
    "nattributes = len(labels) - nclasses\n",
    "attributesFile = \"attributes_file.txt\" \n",
    "\n",
    "\n",
    "with open(path+attributesFile, 'w') as af:\n",
    "    for label in dataset.columns:\n",
    "        af.write(label+'\\n')\n",
    "\n",
    "print(f\"# attributes:\\t{nattributes}\\n# classes:\\t{nclasses}\")"
   ]
  },
  {
   "cell_type": "markdown",
   "metadata": {},
   "source": [
    "So now, lets gather the elements we have to run the model:\n",
    "\n",
    "| **Parameter name** | **Input**           |\n",
    "|--------------------|:-------------------:|\n",
    "| --root_folder      | data/OCDDataset/    |\n",
    "| --train_data_file  | train_dataset.txt   |\n",
    "| --test_data_file   | test_dataset.txt    |\n",
    "| --nb_attributes    | 21                  |\n",
    "| --nb_classes       | 7                   |\n",
    "\n",
    "We can now try to run our random forest model with it and let the rest of the options be decided be the defaults."
   ]
  },
  {
   "cell_type": "code",
   "execution_count": null,
   "metadata": {},
   "outputs": [],
   "source": [
    "args = f\"--root_folder {path} --train_data_file {trainDataFile} --test_data_file {testDataFile} --nb_attributes {nattributes} --nb_classes {nclasses}\"\n",
    "randomForest(args)"
   ]
  },
  {
   "cell_type": "markdown",
   "metadata": {},
   "source": [
    "The algorithm ended and generated a `rule_outfile` file. It contains all rules generated by each tree from the random forest. Lets visualize some of the first tree:"
   ]
  },
  {
   "cell_type": "code",
   "execution_count": null,
   "metadata": {},
   "outputs": [],
   "source": [
    "nlinesToVisualize = 20\n",
    "rulesFile = \"RF_rules.rls\" # if you used the --rules_outfile option when running randomForest(), please don't forget to adapt this according to your input\n",
    "lines = \"\"\n",
    "\n",
    "with open(path + rulesFile) as f:\n",
    "    for _ in range(nlinesToVisualize):\n",
    "        lines += next(f) \n",
    "\n",
    "print(lines)"
   ]
  },
  {
   "cell_type": "markdown",
   "metadata": {},
   "source": [
    "TODO: explain what we see here\n",
    "\n",
    "Now we trained and generated our set of rules, lets use Fidex to sort them (TODO complete this)"
   ]
  },
  {
   "cell_type": "markdown",
   "metadata": {},
   "source": [
    "# Local rules generation - Fidex\n",
    "\n",
    "Now we can generate some local rules to explain the models' results. We can start with launching Fidex on one test sample. This will generate a rule explaining the sample locally. It is local because the algorithm searches a rule only for one sample.\n",
    "\n",
    "Fidex is located in the fidex module. Let's take a look at the parameters :"
   ]
  },
  {
   "cell_type": "code",
   "execution_count": null,
   "metadata": {},
   "outputs": [],
   "source": [
    "from dimlpfidex.fidex import fidex\n",
    "\n",
    "status = fidex(\"--help\")"
   ]
  },
  {
   "cell_type": "markdown",
   "metadata": {},
   "source": [
    "Let's have a closer look at the Fidex help output. Firstly, we can observe that there are `required parameters`. \n",
    "\n",
    "- `--train_data_file`: a file containing features from the training portion of the dataset\n",
    "- `--train_pred_file`: a file containing predictions from the training portion of the dataset\n",
    "- `--train_class_file`: a file containing classes from the training portion of the dataset\n",
    "- `--test_data_file`: a file containing features from the testing portion of the dataset\n",
    "- `--weights_file`: a file containing weights from a model training (in our case, we don't need it because we already have a `rules file` from the RF training)\n",
    "- `--rules_file`: a file containing the rules generated by a model training \n",
    "- `--rules_outfile`: a file name that will contain the output of the Fidex algorithm\n",
    "- `--nb_attributes`: the number of attributes present in the dataset\n",
    "- `--nb_classes`: the number of classes present in the dataset\n",
    "\n",
    "There are also optional arguments that we are going to use:\n",
    "- `--root_folder`: path defining the root directory where every other path specified in other arguments begins\n",
    "- `--attributes_file`: a file containing all attributes and classes names\n",
    "\n",
    "All steps done until now will allow us to run the Fidex program. Let's try to do so:"
   ]
  },
  {
   "cell_type": "code",
   "execution_count": null,
   "metadata": {},
   "outputs": [],
   "source": [
    "rulesOutFileName = \"fidex_rules.rls\"\n",
    "trainClassesFile = \"train_classes.txt\"\n",
    "trainPredsFile = \"predTrain.out\" # generated by the RF\n",
    "testPredsFile = \"predTest.out\" # generated by the RF\n",
    "\n",
    "args = f\"--root_folder {path} --train_data_file {trainDataFile} --train_pred_file {trainPredsFile} --test_data_file {testDataFile} --test_pred_file {testPredsFile} --rules_file {rulesFile} --rules_outfile {rulesOutFileName} --nb_attributes {nattributes} --attributes_file {attributesFile} --nb_classes {nclasses}\"\n",
    "status = fidex(args)"
   ]
  },
  {
   "cell_type": "markdown",
   "metadata": {},
   "source": [
    "We ran the Fidex algorithm on the test portion of the dataset and this generated an output file. Let's observe its content:"
   ]
  },
  {
   "cell_type": "code",
   "execution_count": null,
   "metadata": {},
   "outputs": [],
   "source": [
    "lines = \"\"\n",
    "\n",
    "with open(path+rulesOutFileName, 'r') as f:\n",
    "    for _ in range(nlinesToVisualize):\n",
    "        lines += next(f)\n",
    "\n",
    "print(lines) "
   ]
  },
  {
   "cell_type": "markdown",
   "metadata": {},
   "source": [
    "# Global ruleSet generation - FidexGlo\n"
   ]
  },
  {
   "cell_type": "code",
   "execution_count": null,
   "metadata": {},
   "outputs": [],
   "source": [
    "from dimlpfidex.fidex import fidexGloRules\n",
    "\n",
    "heuristic = 1\n",
    "nthreads = 2\n",
    "globalRulesOutfile = \"fidexGloRules_rules.rls\"\n",
    "# --normalization_file normalization_stats.txt (do I need this ?)\n",
    "\n",
    "args = f\" --root_folder {path} --nb_threads {nthreads} --train_data_file {trainDataFile} --train_pred_file {trainPredsFile} --rules_file {rulesFile} --attributes_file {attributesFile} --nb_attributes {nattributes} --nb_classes {nclasses} --heuristic {heuristic} --global_rules_outfile {globalRulesOutfile}\"\n",
    "status = fidexGloRules(args)"
   ]
  },
  {
   "cell_type": "markdown",
   "metadata": {},
   "source": [
    "# Conclusion"
   ]
  }
 ],
 "metadata": {
  "kernelspec": {
   "display_name": ".venv",
   "language": "python",
   "name": "python3"
  },
  "language_info": {
   "codemirror_mode": {
    "name": "ipython",
    "version": 3
   },
   "file_extension": ".py",
   "mimetype": "text/x-python",
   "name": "python",
   "nbconvert_exporter": "python",
   "pygments_lexer": "ipython3",
   "version": "3.10.12"
  }
 },
 "nbformat": 4,
 "nbformat_minor": 2
}
