{
 "cells": [
  {
   "cell_type": "raw",
   "id": "fe0d6b76-c4d5-4df3-9f9a-4d6274907172",
   "metadata": {
    "jp-MarkdownHeadingCollapsed": true
   },
   "source": [
    "# Exploring CNN models and Fidex rule generation for MNIST classification\n",
    "\n",
    "**Introduction:**\n",
    "\n",
    "Welcome to HES-Xplain, our interactive platform designed to facilitate explainable artificial intelligence (XAI) techniques. In this use case, we dive into the classification with CNN models trained on MNIST.\n",
    "By the end of this notebook, you'll have a solid understanding of how to use a CNN to train the model and the Fidex algorithms to extract rules.\n",
    "\n",
    "**Objectives:**\n",
    "\n",
    "    1. Observe a different use case where XAI can be used.\n",
    "    3. Understand how to use CNNs and Fidex.\n",
    "    4. Showcase the versatility of HES-Xplain using a different dataset and training model.\n",
    "    5. Provide practical insights into applying CNNs and Fidex to MNIST classifiers through an interactive notebook.\n",
    "    6. Foster a community of XAI enthusiasts and practitioners.\n",
    "\n",
    "**Outline:**\n",
    "\n",
    "    1. Dataset and Problem Statement.\n",
    "    2. Model training.\n",
    "    3. Local rules generation - Fidex.\n",
    "    4. Global ruleSet generation - FidexGlo.\n",
    "    5. Explanation and image generation.\n",
    "    6. Conclusion.\n",
    "    7. References."
   ]
  },
  {
   "attachments": {},
   "cell_type": "markdown",
   "id": "62a8f3b4-f169-4ec4-bf69-3f325ae269ec",
   "metadata": {},
   "source": [
    "# Dataset and Problem Statement\n",
    "\n",
    "The MNIST Dataset used in this use case consists of 60'000 data samples representing images of digits between 0 and 9. Each image sample has 784 attributes (shape 28x28x1). This dataset is available on [Kaggle](https://www.kaggle.com/datasets/oddrationale/mnist-in-csv). We already preprocessed the data and saved it in the `data/MnistDataset` folder. It is composed of 50'000 training samples and 10'000 testing samples.\n",
    "\n",
    "Each attribute is a pixel value ranging from 0 to 255. It's not necessary to normalize the data as it is done during the CNN training process.\n",
    "\n",
    "**Problem Statement:** Our objective is to build a robust CNN classifier capable of accurately classifying the images among the 10 classes. By leveraging deep learning techniques and Fidex algorithms, we aim to not only achieve high classification performance but also gain insights into the attributes that contribute to the classification decisions.\n",
    "\n",
    "We'll start by importing all libraries. A warning might appear, but there's no need to worry about it."
   ]
  },
  {
   "cell_type": "code",
   "execution_count": 1,
   "id": "1c2697a5-c92e-40a6-86ce-018b897baea2",
   "metadata": {},
   "outputs": [
    {
     "name": "stderr",
     "output_type": "stream",
     "text": [
      "/home/jeanmarc/dimlpfidex/notebooks/.venv/lib/python3.10/site-packages/numpy/core/getlimits.py:542: UserWarning: Signature b'\\x00\\xd0\\xcc\\xcc\\xcc\\xcc\\xcc\\xcc\\xfb\\xbf\\x00\\x00\\x00\\x00\\x00\\x00' for <class 'numpy.longdouble'> does not match any known type: falling back to type probe function.\n",
      "This warnings indicates broken support for the dtype!\n",
      "  machar = _get_machar(dtype)\n"
     ]
    }
   ],
   "source": [
    "import os, sys\n",
    "from dimlpfidex.fidex import fidex, fidexGloRules, fidexGloStats, fidexGlo\n",
    "from trainings.cnnTrn import cnnTrn"
   ]
  },
  {
   "cell_type": "markdown",
   "id": "65c01997-d95c-4c99-8ea4-3dfa31d7ba2f",
   "metadata": {},
   "source": [
    "# Model training\n",
    "\n",
    "We train the MNIST dataset with a CNN. We use the cnnTrn module to do so. First, let's look at the parameters :"
   ]
  },
  {
   "cell_type": "code",
   "execution_count": 2,
   "id": "2566d658-96d1-4675-b76f-7d6d70730ce3",
   "metadata": {},
   "outputs": [
    {
     "name": "stdout",
     "output_type": "stream",
     "text": [
      "Usage: \n",
      "--train_data_file <str> --test_data_file <str> --original_input_size <pair<int [1, inf[>> --nb_channels <int [1,inf[> --model <{small, large, vgg, resnet}> --data_format <{normalized_01, classic, other}> --nb_classes <int [1,inf[> [-h, --help] [--json_config_file <str>] [--root_folder <str>] [--train_class_file <str>] [--test_class_file <str>] [--train_valid_pred_outfile <str>] [--test_pred_outfile <str>] [--valid_ratio <float ]0,inf[>] [--valid_data_file <str>] [--valid_class_file <str>] [--weights_outfile <str>] [--stats_file <str>] [--console_file <str>] [--nb_epochs <int [1,inf[>] [--nb_quant_levels <int [3,inf[>] [--K <float ]0,inf[>] [--model_input_size <pair<int [1, inf[>>] [--seed <{int [0,inf[}>]\n",
      "\n",
      "This is a parser for cnnTrn\n",
      "\n",
      "\n",
      "Parameters:\n",
      "\n",
      "  ---------------------------------------------------------------------\n",
      "\n",
      "  Warning! The files are located with respect to the root folder dimlpfidex.\n",
      "\n",
      "  The arguments can be specified in the command or in a json configuration file with --json_config_file your_config_file.json.\n",
      "\n",
      "  ----------------------------\n",
      "\n",
      "  Required parameters:\n",
      "\n",
      "  --train_data_file <str>                          Path to the file containing the train portion of the dataset\n",
      "  --test_data_file <str>                           Path to the file containing the test portion of the dataset\n",
      "  --original_input_size <pair<int [1, inf[>>       Original input size size\n",
      "  --nb_channels <int [1,inf[>                      Number of channels in the input (3 for RGB image, 1 for B&W image)\n",
      "  --model <{small, large, vgg, resnet}>            Training model\n",
      "  --data_format <{normalized_01, classic, other}>  Format of the values of the data, normalized_01 if the data are normalized between 0 and 1, classic\n",
      "                                                   if they are between 0 and 255\n",
      "  --nb_classes <int [1,inf[>                       Number of classes in the dataset\n",
      "\n",
      "  ----------------------------\n",
      "\n",
      "  Optional parameters:\n",
      "\n",
      "  -h --help                                        show this help message and exit\n",
      "  --json_config_file <str>                         Path to the JSON file that configures all parameters. If used, this must be the sole argument and\n",
      "                                                   must specify the file's relative path\n",
      "  --root_folder <str>                              Path to the folder, based on main default folder dimlpfidex, containing all used files and where\n",
      "                                                   generated files will be saved. If a file name is specified with another option, its path will be\n",
      "                                                   relative to this root folder> (default: \"\")\n",
      "  --train_class_file <str>                         Path to the file containing the train true classes of the dataset, mandatory if classes are not\n",
      "                                                   specified in train_data_file\n",
      "  --test_class_file <str>                          Path to the file containing the test true classes of the dataset, mandatory if classes are not\n",
      "                                                   specified in test_data_file\n",
      "  --train_valid_pred_outfile <str>                 Path to the file where the output train and validation (in this order) prediction will be stored\n",
      "                                                   (default: predTrain.out)\n",
      "  --test_pred_outfile <str>                        Path to the file where the test predictions will be stored (default: predTest.out)\n",
      "  --valid_ratio <float ]0,inf[>                    Percentage of train data taken for validation (default: 0.1)\n",
      "  --valid_data_file <str>                          Path to the file containing the validation portion of the dataset\n",
      "  --valid_class_file <str>                         Path to the file containing the validation true classes of the dataset, mandatory if classes are\n",
      "                                                   not specified in valid_data_file. BE CAREFUL if there is validation files, and you want to use\n",
      "                                                   Fidex algorithms later, you will have to use both train and validation datas given here in the\n",
      "                                                   train datas and classes of Fidex\n",
      "  --weights_outfile <str>                          Path to the file where the output trained weights of the model will be stored (default:\n",
      "                                                   weights.wts)\n",
      "  --stats_file <str>                               Path to the file where the train and test accuracy will be stored (default: stats.txt)\n",
      "  --console_file <str>                             Path to the file where the terminal output will be redirected. If not specified, all output will be\n",
      "                                                   shown on your terminal\n",
      "  --nb_epochs <int [1,inf[>                        Number of model training epochs (default: 80)\n",
      "  --nb_quant_levels <int [3,inf[>                  Number of stairs in the staircase activation function (default: 50)\n",
      "  --K <float ]0,inf[>                              Parameter to improve dynamics by normalizing input data (default: 1.0)\n",
      "\n",
      "  ----------------------------\n",
      "\n",
      "  CNN parameters (optional):\n",
      "\n",
      "  --model_input_size <pair<int [1, inf[>>          Input size in the model. A small size is recommended to speed up the process. The size is modified\n",
      "                                                   if necessary\n",
      "  --seed <{int [0,inf[}>                           Seed for random number generation, 0=random. Anything else than 0 is an arbitrary seed that can be\n",
      "                                                   reused to obtain the same randomly generated sequence and therefore getting same results (default:\n",
      "                                                   0)\n",
      "\n",
      "  ----------------------------\n",
      "\n",
      "Execution example :\n",
      "\n",
      "cnnTrn('--model small --train_data_file trainData.txt --train_class_file trainClass.txt --test_data_file testData.txt --test_class_file testClass.txt --valid_data_file validData.txt --valid_class_file validClass.txt --original_input_size (28,28) --nb_channels 1 --data_format classic --nb_classes 10 --root_folder dimlp/datafiles/Mnist')\n",
      "\n",
      "---------------------------------------------------------------------\n",
      "\n"
     ]
    }
   ],
   "source": [
    "status = cnnTrn()"
   ]
  },
  {
   "cell_type": "markdown",
   "id": "e69eb22f",
   "metadata": {},
   "source": [
    "To configure our training, we will use this configuration file, located at `data/MnistTemplates/config_cnn.json`:\n",
    "\n",
    "```json\n",
    "{\n",
    "    \"root_folder\": \"data/MnistDataset\",\n",
    "    \"train_data_file\": \"trainData.txt\",\n",
    "    \"train_class_file\": \"trainClass.txt\",\n",
    "    \"test_data_file\": \"testData.txt\",\n",
    "    \"test_class_file\": \"testClass.txt\",\n",
    "    \"valid_ratio\": 0.1,\n",
    "    \"original_input_size\": \"[28,28]\",\n",
    "    \"data_format\": \"classic\",\n",
    "    \"nb_channels\": 1,\n",
    "    \"nb_classes\": 10,\n",
    "    \"model\": \"small\"\n",
    "}\n",
    "```\n",
    "\n",
    "> A detailed list of parameters is available [here](https://hes-xplain.github.io/documentation/algorithms/trainings/cnnTrn/). If you want to create your own configuration file, we recommend using our [configuration file creator](https://hes-xplain.github.io/documentation/gui/)\n",
    "TODO : ajouter partout dans tous les notebooks le lien vers les listes de paramètres.\n",
    "\n",
    "\n",
    "We start by training our model. As it may take some time, the training has already been done. If you wish to train it yourself, you can uncomment and run the next instruction :"
   ]
  },
  {
   "cell_type": "code",
   "execution_count": 3,
   "id": "e804d87b-b2dc-4946-9e99-caf1fa3fa066",
   "metadata": {},
   "outputs": [],
   "source": [
    "#res = cnnTrn('--json_config_file data/MnistTemplates/config_cnn.json')\n",
    "#if (res == 0):\n",
    "#    print(\"cnnTrn done\")"
   ]
  },
  {
   "cell_type": "markdown",
   "id": "47c12044-2b09-4b7c-82b4-e6285ef55dfc",
   "metadata": {},
   "source": [
    "You can check all outputs inside the `data/MnistDataset` folder.\n",
    "\n",
    "Inside `stats.txt` you can see the train and test accuracy.\n",
    "\n",
    "There are also the train predictions, test predictions, and the weights."
   ]
  },
  {
   "cell_type": "markdown",
   "id": "a0865c6d-1648-4a61-8962-e81690b8d491",
   "metadata": {},
   "source": [
    "# Local rules generation - Fidex\n",
    "\n",
    "Fidex is an algorithm used in classification problems that allows us to obtain a rule explaining the decision class of the model for a given test sample. It enables us to grasp the model's decision-making process and to better understand the importance of each parameter in discerning the nature of the tumor, distinguishing between benign and malignant cases.\n",
    "\n",
    "Now we can generate some local rules to explain the models' results. We can start with launching Fidex on one test sample. This will generate a rule explaining the sample locally. It is local because the algorithm searches a rule only for one sample.\n",
    "Fidex is located in the fidex module. Let's take a look at the parameters :"
   ]
  },
  {
   "cell_type": "code",
   "execution_count": 4,
   "id": "368222c7-c0f8-4af0-a6a7-7adf290b7192",
   "metadata": {},
   "outputs": [
    {
     "name": "stdout",
     "output_type": "stream",
     "text": [
      "\n",
      "---------------------------------------------------------------------\n",
      "\n",
      "Warning! The files are located with respect to the root folder dimlpfidex.\n",
      "The arguments can be specified in the command or in a json configuration file with --json_config_file your_config_file.json.\n",
      "\n",
      "----------------------------\n",
      "\n",
      "Required parameters:\n",
      "\n",
      "--train_data_file <str>       Path to the file containing the train portion of the dataset\n",
      "--train_class_file <str>      Path to the file containing the train true classes of the dataset, not mandatory if classes are specified in train data file\n",
      "--train_pred_file <str>       Path to the file containing predictions on the train portion of the dataset\n",
      "--test_data_file <str>        Path to the file containing the test sample(s) data, prediction (if no --test_pred_file) and true class(if no --test_class_file)\n",
      "--weights_file <str>          Path to the file containing the trained weights of the model (not mandatory if a rules file is given with --rules_file)\n",
      "--rules_file <str>            Path to the file containing the trained rules to be converted to hyperlocus (not mandatory if a weights file is given with --weights_file)\n",
      "--rules_outfile <str>         Path to the file where the output rule(s) will be stored. If a .json extension is given, rules are saved in JSON format\n",
      "--nb_attributes <int [1,inf[> Number of attributes in the dataset\n",
      "--nb_classes <int [2,inf[>    Number of classes in the dataset\n",
      "\n",
      "----------------------------\n",
      "\n",
      "Optional parameters: \n",
      "\n",
      "--json_config_file <str>      Path to the JSON file that configures all parameters. If used, this must be the sole argument and must specify the file's relative path\n",
      "--root_folder <str>           Path to the folder, based on main default folder dimlpfidex, containing all used files and where generated files will be saved. If a file name is specified with another option, its path will be relative to this root folder\n",
      "--test_class_file <str>       Path to the file containing the test true classes of the dataset. If at least --test_pred_file is specified, --test_data_file needs to have only test datas and eventually classes on same line (don't add --test_class_file in this case)\n",
      "--test_pred_file <str>        Path to the file containing predictions on the test portion of the dataset\n",
      "--attributes_file <str>       Path to the file containing the labels of attributes and classes\n",
      "--stats_file <str>            Path to the file where statistics concerning the algorithm execution will be stored\n",
      "--console_file <str>          Path to the file where the terminal output will be redirected. If not specified, all output will be shown on your terminal\n",
      "--max_iterations <int [1,inf[>\n",
      "                              Maximum iteration number, also the maximum possible number of attributes in a rule, it should be 25 when working with images (default: 10)\n",
      "--min_covering <int [1,inf[>  Minimum number of samples covered by the generated rules (default: 2)\n",
      "--covering_strategy <bool>    Whether to use the covering strategy : if no rule is found with min_covering, find best rule with best covering using dichotomic search. Decreases min_fidelity if needed (default: True)\n",
      "--max_failed_attempts <int [0,inf[>\n",
      "                              Maximum number of failed attempts to find a Fidex rule when the covering is 1 and the covering strategy is used (default: 30)\n",
      "--min_fidelity <float [0,1]>  Minimal rule fidelity accepted when generating a rule (default: 1.0)\n",
      "--lowest_min_fidelity <float [0,1]>\n",
      "                              Minimal min_fidelity to which we agree to go down during the covering_strategy (default: 0.75)\n",
      "--dropout_dim <float [0,1]>   Probability of dropping a dimension during rule extraction (default: 0.0)\n",
      "--dropout_hyp <float [0,1]>   Probability of dropping a hyperplane during rule extraction (default: 0.0)\n",
      "--decision_threshold <float [0,1]>\n",
      "                              The decision threshold used for predictions, you need to specify the index of the positive class if you want to use it\n",
      "--positive_class_index <int [0,nb_classes-1]>\n",
      "                              Index of the positive class for the usage of a decision threshold, index starts at 0\n",
      "--nb_quant_levels <int [3,inf[>\n",
      "                              Number of stairs in the staircase activation function (default: 50)\n",
      "--normalization_file <str>    Path to the file containing the mean and standard deviation of some attributes. Used to denormalize the rules if specified\n",
      "--mus <list<float ]-inf,inf[>>\n",
      "                              Mean or median of each attribute index to be denormalized in the rules\n",
      "--sigmas <list<float ]-inf,inf[>>\n",
      "                              Standard deviation of each attribute index to be denormalized in the rules\n",
      "--normalization_indices <list<int [0,nb_attributes-1]>>\n",
      "                              Attribute indices to be denormalized in the rules, only used when no normalization_file is given, index starts at 0 (default: [0,...,nb_attributes-1])\n",
      "--seed <int [0,inf[>          Seed for random number generation, 0=random. Anything else than 0 is an arbitrary seed that can be reused to obtain the same randomly generated sequence and therefore getting same results (default: 0)\n",
      "\n",
      "----------------------------\n",
      "\n",
      "Execution example :\n",
      "\n",
      "fidex.fidex(\"--train_data_file datanormTrain.txt --train_pred_file predTrain.out --train_class_file dataclass2Train.txt --test_data_file testSampleDataCombine.txt --nb_attributes 16 --nb_classes 2 --weights_file weights.wts --rules_outfile rules.rls --stats_file stats.txt --root_folder dimlp/datafiles\")\n",
      "\n",
      "---------------------------------------------------------------------\n",
      "\n"
     ]
    }
   ],
   "source": [
    "res = fidex(\"--help\")"
   ]
  },
  {
   "cell_type": "markdown",
   "id": "b4603d85-d0eb-4fb1-bd50-e66cac47b936",
   "metadata": {},
   "source": [
    "We see that we need the number of attributes and classes, the train and test data and class files, as well as train and test predictions, weights file name, and rule output file name where the rules will be saved.<br>\n",
    "We specify as well the saved folder and the attributes.<br>\n",
    "We also need to specify the normalization file obtained from training, to denormalize the values in the generated rule, otherwise the values will be normalized and impossible to interpret.<br>\n",
    "\n",
    "To see how it works, we launch it with just one sample using the configuration file `data/MnistTemplates/config_fidex.json`, and we have saved beforehand the test data sample with its class and predictions in the file `data/MnistDataset/testDataSample.txt`. **It should take about 1 minute**."
   ]
  },
  {
   "cell_type": "code",
   "execution_count": 5,
   "id": "add3ff77-f54f-4288-b7fa-3c780a617653",
   "metadata": {},
   "outputs": [
    {
     "name": "stdout",
     "output_type": "stream",
     "text": [
      "Parameters list:\n",
      " - train_data_file                                                      data/MnistDataset/trainData.txt\n",
      " - train_pred_file                                                      data/MnistDataset/predTrain.out\n",
      " - train_class_file                                                    data/MnistDataset/trainClass.txt\n",
      " - test_data_file                                                  data/MnistDataset/testDataSample.txt\n",
      " - rules_outfile                                                             data/MnistDataset/rule.rls\n",
      " - root_folder                                                                        data/MnistDataset\n",
      " - weights_file                                                           data/MnistDataset/weights.wts\n",
      " - nb_attributes                                                                                    784\n",
      " - nb_classes                                                                                        10\n",
      " - nb_quant_levels                                                                                   50\n",
      " - max_iterations                                                                                    10\n",
      " - min_covering                                                                                       2\n",
      " - max_failed_attempts                                                                               30\n",
      " - positive_class_index                                                                              -1\n",
      " - seed                                                                                               0\n",
      " - decision_threshold                                                                         -1.000000\n",
      " - hi_knot                                                                                     5.000000\n",
      " - dropout_hyp                                                                                 0.000000\n",
      " - dropout_dim                                                                                 0.000000\n",
      " - min_fidelity                                                                                1.000000\n",
      " - lowest_min_fidelity                                                                         0.750000\n",
      " - covering_strategy                                                                                  1\n",
      "End of Parameters list.\n",
      "\n",
      "Import files...\n",
      "\n",
      "Import time = 29.7188 sec\n",
      "Files imported\n",
      "\n",
      "----------------------------------------------\n",
      "\n",
      "Creation of hyperspace...\n",
      "\n",
      "Parameters of hyperLocus :\n",
      "\n",
      "- Number of stairs 50\n",
      "- Interval : [-5,5]\n",
      "\n",
      "Import weight file...\n",
      "Weight file imported\n",
      "\n",
      "computation of hyperLocus\n",
      "HyperLocus computed\n",
      "\n",
      "Hyperspace created\n",
      "\n",
      "Searching for discriminating hyperplans...\n",
      "Initial fidelity : 0.104533\n",
      "Final fidelity : 1\n",
      "Discriminating hyperplans generated.\n",
      "\n",
      "\n",
      "Extracted rule :\n",
      "X739>=249.9 X202>=15.3 -> class 7\n",
      "   Train Covering size : 61\n",
      "   Train Fidelity : 1\n",
      "   Train Accuracy : 1\n",
      "   Train Confidence : 0.999997\n",
      "\n",
      "Result found after 2 iterations.\n",
      "-------------------------------------------------\n",
      "\n",
      "Time without data import = 45.5469 sec\n",
      "\n",
      "Full execution time = 75.2656 sec\n"
     ]
    }
   ],
   "source": [
    "res = fidex(\"--json_config_file data/MnistTemplates/config_fidex.json\")"
   ]
  },
  {
   "cell_type": "markdown",
   "id": "e1dcf258-9284-4a41-817b-9158f321a2df",
   "metadata": {},
   "source": [
    "You can see the walkthrough of the algorithm and the rule extracted. The rule is also saved in the rule.rls file. The Xi terms reprensent the ith pixel of the image (or ith attribute). With the rule, we see also the covering size of the rule on the training set, the fidelity, the accuracy, and the confidence of the rule. The confidence shows how much the rule is confident with his choices, with respect to the prediction values.<br>"
   ]
  },
  {
   "cell_type": "markdown",
   "id": "1a2c1cad-7802-47e5-bc09-aa28967913cc",
   "metadata": {},
   "source": [
    "# Global ruleSet generation - FidexGlo\n",
    "We've seen how to compute a rule that explains the decision of the model for a specific sample. Now, we will generalize a ruleset that characterizes the whole train dataset. That means that for each training sample, there is a rule in the set of rules that explains the model's decision for this sample. We will use this global ruleset to explain the results obtained on new test samples. If there is a rule of the ruleset corresponding to the sample, we take this one and get a global explanation for the sample. If there is none, we call Fidex and only have a local explanation.<br>\n",
    "\n",
    "To get the ruleSet we execute fidexGloRules which is located in the fidex module. Here are the possible parameters :"
   ]
  },
  {
   "cell_type": "code",
   "execution_count": 6,
   "id": "8286ec5a-306b-4048-84cb-7358c2647863",
   "metadata": {},
   "outputs": [
    {
     "name": "stdout",
     "output_type": "stream",
     "text": [
      "\n",
      "---------------------------------------------------------------------\n",
      "\n",
      "Warning! The files are located with respect to the root folder dimlpfidex.\n",
      "The arguments can be specified in the command or in a json configuration file with --json_config_file your_config_file.json.\n",
      "\n",
      "----------------------------\n",
      "\n",
      "Required parameters:\n",
      "\n",
      "--train_data_file <str>       Path to the file containing the train portion of the dataset\n",
      "--train_class_file <str>      Path to the file containing the train true classes of the dataset, not mandatory if classes are specified in train data file\n",
      "--train_pred_file <str>       Path to the file containing predictions on the train portion of the dataset\n",
      "--weights_file <str>          Path to the file containing the trained weights of the model (not mandatory if a rules file is given with --rules_file)\n",
      "--rules_file <str>            Path to the file containing the trained rules to be converted to hyperlocus (not mandatory if a weights file is given with --weights_file)\n",
      "--global_rules_outfile <str>  Path to the file where the output rule(s) will be stored. If a .json extension is given, rules are saved in JSON format\n",
      "--heuristic <int [1,3]>       Heuristic 1: optimal fidexGlo, 2: fast fidexGlo 3: very fast fidexGlo. (Faster algorithms are less efficient)\n",
      "--nb_attributes <int [1,inf[> Number of attributes in the dataset\n",
      "--nb_classes <int [2,inf[>    Number of classes in the dataset\n",
      "\n",
      "----------------------------\n",
      "\n",
      "Optional parameters: \n",
      "\n",
      "--json_config_file <str>      Path to the JSON file that configures all parameters. If used, this must be the sole argument and must specify the file's relative path\n",
      "--root_folder <str>           Path to the folder, based on main default folder dimlpfidex, containing all used files and where generated files will be saved. If a file name is specified with another option, its path will be relative to this root folder\n",
      "--attributes_file <str>       Path to the file containing the labels of attributes and classes\n",
      "--console_file <str>          Path to the file where the terminal output will be redirected. If not specified, all output will be shown on your terminal\n",
      "--max_iterations <int [1,inf[>\n",
      "                              Maximum iteration number, also the maximum possible number of attributes in a rule, it should be 25 when working with images (default: 10)\n",
      "--min_covering <int [1,inf[>  Minimum number of samples covered by the generated rules (default: 2)\n",
      "--covering_strategy <bool>    Whether to use the covering strategy : if no rule is found with min_covering, find best rule with best covering using dichotomic search. Decreases min_fidelity if needed (default: True)\n",
      "--max_failed_attempts <int [0,inf[>\n",
      "                              Maximum number of failed attempts to find a Fidex rule when the covering is 1 and the covering strategy is used (default: 30)\n",
      "--min_fidelity <float [0,1]>  Minimal rule fidelity accepted when generating a rule (default: 1.0)\n",
      "--lowest_min_fidelity <float [0,1]>\n",
      "                              Minimal min_fidelity to which we agree to go down during the covering_strategy (default: 0.75)\n",
      "--dropout_dim <float [0,1]>   Probability of dropping a dimension during rule extraction (default: 0.0)\n",
      "--dropout_hyp <float [0,1]>   Probability of dropping a hyperplane during rule extraction (default: 0.0)\n",
      "--decision_threshold <float [0,1]>\n",
      "                              The decision threshold used for predictions, you need to specify the index of the positive class if you want to use it\n",
      "--positive_class_index <int [0,nb_classes-1]>\n",
      "                              Index of the positive class for the usage of a decision threshold, index starts at 0\n",
      "--nb_quant_levels <int [3,inf[>\n",
      "                              Number of stairs in the staircase activation function (default: 50)\n",
      "--normalization_file <str>    Path to the file containing the mean and standard deviation of some attributes. Used to denormalize the rules if specified\n",
      "--mus <list<float ]-inf,inf[>>\n",
      "                             "
     ]
    }
   ],
   "source": [
    "res = fidexGloRules(\"--help\")"
   ]
  },
  {
   "cell_type": "markdown",
   "id": "665be28c-c788-41c2-ae00-b7a7b3118c2b",
   "metadata": {},
   "source": [
    "We use nearly the same parameters as for Fidex but we only need train data. We need to choose a heuristic for fidexGloRules, we choose the optimal to get better results.<br>\n",
    "The process is very long and can last several days, so we already computed it beforehand using the configuration file `data/MnistTemplates/config_fidexGloRules.json`. The ruleset is available in the file `data/MnistDataset/globalRules.txt`.<br>\n",
    "If you want to launch it, and you have several processors available, you should add the parameter nb_threads with the number of processors that you want to use, it can speed up the process a lot. If you want to accelerate the process even more, you can use some dropout, the algorithm will randomly skip some dimensions or some hyperplans. For example, you can put: -d 0.9 -h 0.9, to skip half dimensions and half hyperplans, which should be about 4 times faster. You just need to uncomment the next lines :"
   ]
  },
  {
   "cell_type": "code",
   "execution_count": 7,
   "id": "26e0d897-ab14-4e8d-a0f9-da7fe35bfb59",
   "metadata": {},
   "outputs": [],
   "source": [
    "#res = fidexGloRules('--json_config_file data/MnistTemplates/config_fidexGloRules.json')  \n",
    "#if (res == 0):\n",
    "#    print(\"FidexGloRules done\")"
   ]
  },
  {
   "cell_type": "markdown",
   "id": "c5e7b780-5fc6-4d0a-a82e-1b86ed6853d4",
   "metadata": {},
   "source": [
    "We have generated about 5000 rules explaining the whole train dataset. You can see at the top of the globalRules file the number of rules, the mean covering number per rule, and the mean number of antecedents. Here is an example of a rule that you may obtain:<br>\n",
    "\n",
    "Rule 1: X323>=219.3 X517>=198.9 X180<5.1 X492<25.5 X272<25.5 X347<10.2 X576<20.4 X236<30.6 X436<132.6 X541<30.6 -> class 1 <br>\n",
    "   Train Covering size : 2156 <br>\n",
    "   Train Fidelity : 1 <br>\n",
    "   Train Accuracy : 1 <br>\n",
    "   Train Confidence : 0.999678 <br>\n",
    "\n",
    "This rule is the first rule, which means that it's the rule with the maximum covering. Here, 2156 train samples verify this rule. It is 100% fidel with the model and has about 100% train accuracy.\n",
    "This rule says that if the 323rd pixel of the image is greater than 219.3 and if the other antecedents are verified, then this is an image on the digit 1. And this rule is accurate, on train test, at 100% and has 99% of confidence.<br>\n",
    "\n",
    "Now, we can see some global statistics on the test set, and also some statistics directly on each rule. So we will see the test accuracy on this rule.<br>\n",
    "We execute fidexGloStats which is located in the fidex module. First, let's check the parameters :"
   ]
  },
  {
   "cell_type": "code",
   "execution_count": 8,
   "id": "6d6aaa70-4ffa-4205-99f8-840d67b260cf",
   "metadata": {},
   "outputs": [
    {
     "name": "stdout",
     "output_type": "stream",
     "text": [
      "\n",
      "---------------------------------------------------------------------\n",
      "\n",
      "Warning! The files are located with respect to the root folder dimlpfidex.\n",
      "The arguments can be specified in the command or in a json configuration file with --json_config_file your_config_file.json.\n",
      "\n",
      "----------------------------\n",
      "\n",
      "Required parameters:\n",
      "\n",
      "--test_data_file <str>        Path to the file containing the test portion of the dataset\n",
      "--test_class_file <str>       Path to the file containing the test true classes of the dataset, not mandatory if classes are specified in test data file\n",
      "--test_pred_file <str>        Path to the file containing predictions on the test portion of the dataset\n",
      "--global_rules_file <str>     Path to the file containing the global rules obtained with fidexGloRules algorithm.\n",
      "--nb_attributes <int [1,inf[> Number of attributes in the dataset\n",
      "--nb_classes <int [2,inf[>    Number of classes in the dataset\n",
      "\n",
      "----------------------------\n",
      "\n",
      "Optional parameters: \n",
      "\n",
      "--json_config_file <str>      Path to the JSON file that configures all parameters. If used, this must be the sole argument and must specify the file's relative path\n",
      "--root_folder <str>           Path to the folder, based on main default folder dimlpfidex, containing all used files and where generated files will be saved. If a file name is specified with another option, its path will be relative to this root folder\n",
      "--global_rules_outfile <str>  Path to the file where the output global rules will be stored with stats on test set, if you want to compute those statistics.\n",
      "--attributes_file <str>       Path to the file containing the labels of attributes and classes> Mandatory if rules file contains attribute names, if not, do not add it\n",
      "--stats_file <str>            Path to the file where statistics of the global ruleset will be stored\n",
      "--console_file <str>          Path to the file where the terminal output will be redirected. If not specified, all output will be shown on your terminal\n",
      "--positive_class_index <int [0,nb_classes-1]>\n",
      "                              Index of the positive class to compute true/false positive/negative rates, index starts at 0. If it is specified in the rules file, it has to be the same value.\n",
      "\n",
      "----------------------------\n",
      "\n",
      "Execution example :\n",
      "\n",
      "fidex.fidexGloStats(\"--test_data_file datanormTest.txt --test_pred_file predTest.out --test_class_file dataclass2Test.txt --global_rules_file globalRules.rls --nb_attributes 16 --nb_classes 2 --stats_file stats.txt --root_folder dimlp/datafiles\")\n",
      "\n",
      "---------------------------------------------------------------------\n",
      "\n"
     ]
    }
   ],
   "source": [
    "res = fidexGloStats(\"--help\")"
   ]
  },
  {
   "cell_type": "markdown",
   "id": "b8b7ebed-01b9-4016-addb-d99839f7be74",
   "metadata": {},
   "source": [
    "We need the test files(data, prediction, class), the rules file, and the number of attributes and classes. We choose to save the results in the file fidexGloStats.txt. With the parameter global_rules_outfile we can generate the statistics on rules which will modify the rules file. If you want to keep the first ruleSet unchanged, you should give another name. So here is the command using the configuration file `data/MnistTemplates/config_fidexGloStats.json`:"
   ]
  },
  {
   "cell_type": "code",
   "execution_count": 9,
   "id": "375ef5c0-aca8-4e1a-a842-ed229d23e8a0",
   "metadata": {},
   "outputs": [
    {
     "name": "stdout",
     "output_type": "stream",
     "text": [
      "Parameters list:\n",
      " - test_data_file                                                        data/MnistDataset/testData.txt\n",
      " - test_pred_file                                                        data/MnistDataset/predTest.out\n",
      " - test_class_file                                                      data/MnistDataset/testClass.txt\n",
      " - global_rules_outfile                                  data/MnistDataset/globalRulesWithTestStats.rls\n",
      " - global_rules_file                                                  data/MnistDataset/globalRules.txt\n",
      " - root_folder                                                                        data/MnistDataset\n",
      " - stats_file                                                       data/MnistDataset/fidexGloStats.txt\n",
      " - nb_attributes                                                                                    784\n",
      " - nb_classes                                                                                        10\n",
      " - positive_class_index                                                                              -1\n",
      "End of Parameters list.\n",
      "\n",
      "Importing files...\n",
      "\n",
      "Data imported.\n",
      "\n",
      "Compute statistics...\n",
      "\n",
      "Global statistics of the rule set : \n",
      "Number of rules : 4910, mean sample covering number per rule : 101.016701, mean number of antecedents per rule : 7.106314\n",
      "\n",
      "Statistics with a test set of 10000 samples :\n",
      "\n",
      "No decision threshold is used.\n",
      "No positive index class is used.\n",
      "The global rule fidelity rate is : 0.970900\n",
      "The global rule accuracy is : 0.966600\n",
      "The explainability rate (when we can find one or more rules, either correct ones or activated ones which all agree on the same class) is : 0.951000\n",
      "The default rule rate (when we can't find any rule activated for a sample) is : 0.044100\n",
      "The mean number of correct(fidel) activated rules per sample is : 8.366100\n",
      "The mean number of wrong(not fidel) activated rules per sample is : 0.225300\n",
      "The model test accuracy is : 0.993000\n",
      "The model test accuracy when rules and model agree is : 0.994747\n",
      "The model test accuracy when activated rules and model agree is : 0.996439\n",
      "\n",
      "Full execution time = 13.4531 sec\n"
     ]
    }
   ],
   "source": [
    "res = fidexGloStats(\"--json_config_file data/MnistTemplates/config_fidexGloStats.json\")"
   ]
  },
  {
   "cell_type": "markdown",
   "id": "c523c382-b2ed-413e-84e7-c0d39c6d1bf5",
   "metadata": {},
   "source": [
    "Here you can see the global statistics on the test set. We have about 97% fidelity, which is good, and a rule accuracy(96.6%) about 3% lower than the model accuracy(99.3%). So the rules seem to classify a bit worse. The explainability rate is the percentage of samples for which we can find a rule in the rules set. For the others, we need to execute Fidex (this is the default rule rate). In our case, we had more than a 95% explainability rate, so only in 5% of cases do we need to compute Fidex. Each rule can activate many rules. Here on average, a sample activates 8 correct rules and 0.2 wrong rules. A wrong rule is a rule with which the model doesn't agree. For example, if the rule says malign and the model says benign. Something interesting is the model test accuracy when rules and model agree. You can see that, generally, the accuracy increases if we consider samples where rules and model agree, and increases even more if we take only the activated rules (when there are no activated rules, we choose the model prediction). That means that the rules confirm well the model decision, but when no rule is found, the model decision may as well be wrong. <br>"
   ]
  },
  {
   "cell_type": "markdown",
   "id": "d5400680-5058-4f75-97f1-552b1cead6d8",
   "metadata": {},
   "source": [
    "In globalRulesWithTestStats file, you can now see the statistics of rules on the test set. Here is the same rule as before that we have now:<br>\n",
    "\n",
    "Rule 1: X323>=219.3 X517>=198.9 X180<5.1 X492<25.5 X272<25.5 X347<10.2 X576<20.4 X236<30.6 X436<132.6 X541<30.6 -> class 1 <br>\n",
    "   Train Covering size : 2156 --- Test Covering size : 370 <br>\n",
    "   Train Fidelity : 1 --- Test Fidelity : 0.997297 <br>\n",
    "   Train Accuracy : 1 --- Test Accuracy : 1 <br>\n",
    "   Train Confidence : 0.999678 --- Test Confidence : 0.997311 <br>\n",
    "\n",
    "We see that the rule no longer always agrees with the model, only in 99.7% of cases. However, the rule accuracy is perfect. That means that the rule is very good in reality, with 100% of correct classification."
   ]
  },
  {
   "cell_type": "markdown",
   "id": "72abe27f-3d11-4128-90ab-307e5e16d5a6",
   "metadata": {},
   "source": [
    "# Explanation and image generation\n",
    "\n",
    "Now we get the explanations on a few test samples. We use the files `testDataSamples`, `testClassSamples`, and `testPredSamples` containing 10 test samples. <br>\n",
    "We launch it like this using the configuration file `data/MnistTemplates/config_fidexGlo.json` :"
   ]
  },
  {
   "cell_type": "code",
   "execution_count": 10,
   "id": "fd579681-492d-4900-84ae-69aeef690a12",
   "metadata": {},
   "outputs": [
    {
     "name": "stdout",
     "output_type": "stream",
     "text": [
      "Explanations generated\n"
     ]
    }
   ],
   "source": [
    "res = fidexGlo(\"--json_config_file data/MnistTemplates/config_fidexGlo.json\")\n",
    "if res == 0:\n",
    "    print(\"Explanations generated\") "
   ]
  },
  {
   "cell_type": "markdown",
   "id": "4ccf58f4-b70b-4586-ad3c-345d9a5d0823",
   "metadata": {},
   "source": [
    "The explanations for each test sample can then be found in the file `data/MnistDataset/explanations.txt`. We find a global rule for every of those 10 samples. <br>\n",
    "Now, we parse the explanation file to get the first exaplanation rule of each sample and we generate the test images with colored pixels where the rule is activated."
   ]
  },
  {
   "cell_type": "code",
   "execution_count": 11,
   "id": "c423f7c5-ae3d-4c15-9a3a-2563ec2ec656",
   "metadata": {},
   "outputs": [
    {
     "data": {
      "image/jpeg": "[encoded data removed]",
      "image/png": "[encoded data removed]",
      "text/plain": [
       "<PIL.Image.Image image mode=RGB size=28x28>"
      ]
     },
     "metadata": {},
     "output_type": "display_data"
    },
    {
     "data": {
      "image/jpeg": "[encoded data removed]",
      "image/png": "[encoded data removed]",
      "text/plain": [
       "<PIL.Image.Image image mode=RGB size=28x28>"
      ]
     },
     "metadata": {},
     "output_type": "display_data"
    },
    {
     "data": {
      "image/jpeg": "[encoded data removed]",
      "image/png": "[encoded data removed]",
      "text/plain": [
       "<PIL.Image.Image image mode=RGB size=28x28>"
      ]
     },
     "metadata": {},
     "output_type": "display_data"
    },
    {
     "data": {
      "image/jpeg": "[encoded data removed]",
      "image/png": "[encoded data removed]",
      "text/plain": [
       "<PIL.Image.Image image mode=RGB size=28x28>"
      ]
     },
     "metadata": {},
     "output_type": "display_data"
    },
    {
     "data": {
      "image/jpeg": "[encoded data removed]",
      "image/png": "[encoded data removed]",
      "text/plain": [
       "<PIL.Image.Image image mode=RGB size=28x28>"
      ]
     },
     "metadata": {},
     "output_type": "display_data"
    },
    {
     "data": {
      "image/jpeg": "[encoded data removed]",
      "image/png": "[encoded data removed]",
      "text/plain": [
       "<PIL.Image.Image image mode=RGB size=28x28>"
      ]
     },
     "metadata": {},
     "output_type": "display_data"
    },
    {
     "data": {
      "image/jpeg": "[encoded data removed]",
      "image/png": "[encoded data removed]",
      "text/plain": [
       "<PIL.Image.Image image mode=RGB size=28x28>"
      ]
     },
     "metadata": {},
     "output_type": "display_data"
    },
    {
     "data": {
      "image/jpeg": "[encoded data removed]",
      "image/png": "[encoded data removed]",
      "text/plain": [
       "<PIL.Image.Image image mode=RGB size=28x28>"
      ]
     },
     "metadata": {},
     "output_type": "display_data"
    },
    {
     "data": {
      "image/jpeg": "[encoded data removed]",
      "image/png": "[encoded data removed]",
      "text/plain": [
       "<PIL.Image.Image image mode=RGB size=28x28>"
      ]
     },
     "metadata": {},
     "output_type": "display_data"
    },
    {
     "data": {
      "image/jpeg": "[encoded data removed]",
      "image/png": "[encoded data removed]",
      "text/plain": [
       "<PIL.Image.Image image mode=RGB size=28x28>"
      ]
     },
     "metadata": {},
     "output_type": "display_data"
    }
   ],
   "source": [
    "import re\n",
    "import numpy as np\n",
    "from PIL import Image\n",
    "\n",
    "images = []\n",
    "test_data = \"data/MnistDataset/testDataSamples.txt\"\n",
    "with open(test_data, \"r\") as my_file:\n",
    "    for line in my_file:\n",
    "        images.append(line.strip().split(\" \"))\n",
    "\n",
    "explanation_file = \"data/MnistDataset/explanations.txt\"\n",
    "pattern = r'X(\\d+)\\s*([<>]=?)\\s*([\\d.]+)' # Regular expression pattern to match antecedents\n",
    "rules = []\n",
    "with open(explanation_file, \"r\") as my_file:\n",
    "    for line in my_file:\n",
    "        if line.startswith(\"R1: \"):\n",
    "            rules.append(line.strip())\n",
    "        if line.startswith(\"Local rule\"):\n",
    "            # Search next non empty line\n",
    "            next_line = next(my_file, '').strip()\n",
    "            while not next_line:\n",
    "                next_line = next(my_file, '').strip()\n",
    "            rules.append(next_line)\n",
    "    my_file.close()\n",
    "\n",
    "# Find all matches in the input string\n",
    "for id_sample in range(len(rules)):\n",
    "    antecedents = []\n",
    "    matches = re.findall(pattern, rules[id_sample])\n",
    "\n",
    "    # Process each match and store in antecedents\n",
    "    for match in matches:\n",
    "        attribute, inequality, value = match\n",
    "        antecedent = {\n",
    "            \"attribute\": int(attribute),\n",
    "            \"inequality\": inequality,\n",
    "            \"value\": float(value)\n",
    "        }\n",
    "        antecedents.append(antecedent)\n",
    "\n",
    "    colorimage = [[v,v,v] for v in images[id_sample]]\n",
    "    for antecedent in antecedents:\n",
    "                if antecedent[\"inequality\"] == \"<\":\n",
    "                    colorimage[antecedent[\"attribute\"]]=[255,0,0]\n",
    "                else:\n",
    "                    colorimage[antecedent[\"attribute\"]]=[0,255,0]\n",
    "\n",
    "    colorimage_array = np.array(colorimage).reshape(28, 28, 3)\n",
    "    colorimage = Image.fromarray(colorimage_array.astype('uint8'))\n",
    "    image_path = 'data/MnistDataset/images/img_'+ str(id_sample) + '_out.png'\n",
    "    colorimage.save(image_path)\n",
    "    colorimage.show()\n"
   ]
  },
  {
   "cell_type": "markdown",
   "id": "f912a26f-6d11-46b6-bd51-9f52f6f36b95",
   "metadata": {},
   "source": [
    "You can observe the 10 images. To see them better, open them in the folder `data/MnistDataset/images`. The red dots indicate pixels where the rule requires the value to be below a certain threshold, while the green dots represent pixels where the value must be above a threshold. You can observe which pixels are used by the model to decide which digit it is."
   ]
  },
  {
   "cell_type": "markdown",
   "id": "db7f3208-c538-40eb-8c76-31e75d687198",
   "metadata": {},
   "source": [
    "# Conclusion\n",
    "\n",
    "Throughout this notebook, we've learned how to use cnnTrn to train a dataset and get some explaining rules, and we got into the different Fidex algorithms to get some local and global explanations, and some statistics on the model's decisions. We used the example of the MNIST dataset and we saw that the algorithms perform very well. It gives some good explanations of the model's decision. You can try with any image dataset you want, you just have to remember to transform the data in a proper format. <be>\n",
    "\n",
    "We didn't speak about every single parameter, you can try to change every hyperparameter you want to see how it goes. A parameter that can be useful is the seed. It allows you to remove the randomness of the algorithms and get the same result in each execution for the same parameters and data.<br>\n",
    "\n",
    "To go further, you can see the notebook on the Cracks dataset which is another application of CNNs on image classification [INSERER LIEN NOTEBOOK CRACKS]."
   ]
  },
  {
   "cell_type": "markdown",
   "id": "605dcb45-4862-4268-bef2-068cf96de3d9",
   "metadata": {},
   "source": [
    "# Références\n",
    "\n",
    "Article DimlpBT de Guido\n",
    "Article Fidex de Guido (à venir)"
   ]
  }
 ],
 "metadata": {
  "kernelspec": {
   "display_name": "Python 3 (ipykernel)",
   "language": "python",
   "name": "python3"
  },
  "language_info": {
   "codemirror_mode": {
    "name": "ipython",
    "version": 3
   },
   "file_extension": ".py",
   "mimetype": "text/x-python",
   "name": "python",
   "nbconvert_exporter": "python",
   "pygments_lexer": "ipython3",
   "version": "3.10.12"
  }
 },
 "nbformat": 4,
 "nbformat_minor": 5
}
