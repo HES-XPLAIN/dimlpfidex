{
 "cells": [
  {
   "cell_type": "markdown",
   "id": "6032ef9f-92e2-44dc-a11b-b224342bee29",
   "metadata": {
    "jp-MarkdownHeadingCollapsed": true
   },
   "source": [
    "# Exploring Dimlp and Fidex rule generation for breast cancer classification\n",
    "\n",
    "**Introduction:**\n",
    "\n",
    "Welcome to HES-Xplain, our interactive platform designed to facilitate explainable artificial intelligence (XAI) techniques. In this use case, we dive into breast cancer classification and showcase the power of Dimlp and Fidex as interpretability tools.\n",
    "\n",
    "In the medical field, there are many machine-learning models that can obtain results. These models are like black boxes that return results without fully understanding the reasoning leading to them. Depending on the nature of the problem it's important to understand the model's decision. It's difficult for a doctor or a patient to make a decision based on a model that we don't understand. Likewise, insurance companies will not necessarily agree to pay for a medication that a model has advised people to take. This is why explainability in this field is important.\n",
    "\n",
    "Fidex is an algorithm used in classification problems that allows us to obtain a rule explaining the decision class of the model for a given test sample. It enables us to grasp the model's decision-making process and to better understand the importance of each parameter in discerning the nature of the tumor, distinguishing between benign and malignant cases.\n",
    "\n",
    "The global version of Fidex, FidexGlo, allows us to get a set of rules that englobes all the decision-making process for the entire training set. We can then check if a new sample verifies all the properties of one rule of the ruleset, in which case this rule explains the model's decision.\n",
    "\n",
    "Our goal is to demonstrate how HES-Xplain empowers users to explore and interpret breast cancer classification effectively. By the end of this use case, you'll have a solid understanding of how to use Dimlp to train the model and the Fidex algorithms into your own classification datasets.\n",
    "\n",
    "**Objectives:**\n",
    "\n",
    "    1. Understand the importance of interpretability in medical problems.\n",
    "    2. Introduce Dimlp and Fidex as powerful XAI techniques.\n",
    "    3. Understand how to use Dimlp and Fidex.\n",
    "    4. Showcase the capabilities of HES-Xplain in implementing Dimlp and Fidex algorithms.\n",
    "    5. Provide practical insights into applying Dimlp and Fidex to breast cancer classifiers through an interactive notebook.\n",
    "    6. Foster a community of XAI enthusiasts and practitioners.\n",
    "\n",
    "**Outline:**\n",
    "\n",
    "    1. Dataset and Problem Statement.\n",
    "    2. Load the dataset.\n",
    "    3. Training of the Model.\n",
    "    4. Local rules generation - Fidex\n",
    "    5. Global ruleSet generation - FidexGlo\n",
    "    6. Conclusion.\n",
    "    7. References.\n",
    "\n",
    "Through this use case, we aim to empower users to grasp the potential of Dimlp and Fidex as tools for transparent and interpretable classification. With HES-Xplain, we make XAI accessible, helping users build trust in their models and make informed decisions.\n"
   ]
  },
  {
   "cell_type": "markdown",
   "id": "96f882f8-9ee5-44a3-9091-bc5cd14c896e",
   "metadata": {},
   "source": [
    "# Dataset and Problem Statement\n",
    "\n",
    "The Breast Cancer Dataset used in this use case consists of 569 data samples representing patients who have tumors. Each patient has 30 attributes, computed out of an image, used to determine if the tumor is malignant (first class) or benign (second class). This dataset is available on [Kaggle](https://www.kaggle.com/datasets/uciml/breast-cancer-wisconsin-data) and can be imported with sklearn. It is composed of 455 training samples and 114 testing samples. \n",
    "\n",
    "The 30 attributes are composed of 10 real-valued features computed for each cell nucleus :\n",
    "\n",
    "- **Radius**: Mean of distances from the center to points on the perimeter.\n",
    "- **Texture**: Standard deviation of gray-scale values.\n",
    "- **Perimeter**\n",
    "- **Area**\n",
    "- **Smoothness**: Local variation in radius lengths.\n",
    "- **Compactness**: $\\frac{\\text{perimeter}^2}{\\text{area}} - 1.0$\n",
    "- **Concavity**: Severity of concave portions of the contour.\n",
    "- **Concave Points**: Number of concave portions of the contour.\n",
    "- **Symmetry**\n",
    "- **Fractal Dimension**: \"Coastline approximation\" - 1.\n",
    "\n",
    "For each tumor image, the mean, standard error, and worst errors were computed and appear as different attributes.\n",
    "\n",
    "**Problem Statement:** Our objective is to build a robust classifier capable of accurately classifying breast cancer samples among the 2 classes. By leveraging deep learning techniques and Fidex algorithms, we aim to not only achieve high classification performance but also gain insights into the attributes that contribute to the classification decisions."
   ]
  },
  {
   "cell_type": "markdown",
   "id": "8bfedb29-a2b0-4a64-9958-da3f1463a78d",
   "metadata": {},
   "source": [
    "# Load the dataset\n",
    "First of all, let's import everything needed to run this notebook and unbuffer Python output so that it prints the result as soon as possible (you won't need to do this)."
   ]
  },
  {
   "cell_type": "code",
   "execution_count": 119,
   "id": "1c2697a5-c92e-40a6-86ce-018b897baea2",
   "metadata": {},
   "outputs": [],
   "source": [
    "import os, sys\n",
    "import pandas as pd\n",
    "from sklearn.datasets import load_breast_cancer\n",
    "from sklearn.utils import shuffle\n",
    "from dimlpfidex.dimlp import dimlpBT\n",
    "from IPython.display import Image, display\n",
    "from trainings.normalization import normalization\n",
    "from trainings.computeRocCurve import computeRocCurve\n",
    "from dimlpfidex.fidex import fidex, fidexGloRules, fidexGloStats, fidexGlo\n",
    "\n",
    "class Unbuffered(object):\n",
    "   def __init__(self, stream):\n",
    "       self.stream = stream\n",
    "   def write(self, data):\n",
    "       self.stream.write(data)\n",
    "       self.stream.flush()\n",
    "   def writelines(self, datas):\n",
    "       self.stream.writelines(datas)\n",
    "       self.stream.flush()\n",
    "   def __getattr__(self, attr):\n",
    "       return getattr(self.stream, attr)\n",
    "\n",
    "\n",
    "sys.stdout = Unbuffered(sys.stdout)"
   ]
  },
  {
   "cell_type": "markdown",
   "id": "dade571b-4876-45b5-9d09-a76791165a75",
   "metadata": {},
   "source": [
    "We start by loading the dataset. First, we need to download the data with sklearn and shuffle it randomly."
   ]
  },
  {
   "cell_type": "code",
   "execution_count": 120,
   "id": "bd7b7b29-d07d-4750-820f-2270937d8ecd",
   "metadata": {},
   "outputs": [
    {
     "name": "stdout",
     "output_type": "stream",
     "text": [
      "['malignant', 'benign']\n"
     ]
    },
    {
     "data": {
      "text/html": [
       "<div>\n",
       "<style scoped>\n",
       "    .dataframe tbody tr th:only-of-type {\n",
       "        vertical-align: middle;\n",
       "    }\n",
       "\n",
       "    .dataframe tbody tr th {\n",
       "        vertical-align: top;\n",
       "    }\n",
       "\n",
       "    .dataframe thead th {\n",
       "        text-align: right;\n",
       "    }\n",
       "</style>\n",
       "<table border=\"1\" class=\"dataframe\">\n",
       "  <thead>\n",
       "    <tr style=\"text-align: right;\">\n",
       "      <th></th>\n",
       "      <th>malignant</th>\n",
       "      <th>benign</th>\n",
       "    </tr>\n",
       "  </thead>\n",
       "  <tbody>\n",
       "    <tr>\n",
       "      <th>0</th>\n",
       "      <td>1</td>\n",
       "      <td>0</td>\n",
       "    </tr>\n",
       "    <tr>\n",
       "      <th>1</th>\n",
       "      <td>1</td>\n",
       "      <td>0</td>\n",
       "    </tr>\n",
       "    <tr>\n",
       "      <th>2</th>\n",
       "      <td>1</td>\n",
       "      <td>0</td>\n",
       "    </tr>\n",
       "    <tr>\n",
       "      <th>3</th>\n",
       "      <td>1</td>\n",
       "      <td>0</td>\n",
       "    </tr>\n",
       "    <tr>\n",
       "      <th>4</th>\n",
       "      <td>1</td>\n",
       "      <td>0</td>\n",
       "    </tr>\n",
       "  </tbody>\n",
       "</table>\n",
       "</div>"
      ],
      "text/plain": [
       "   malignant  benign\n",
       "0          1       0\n",
       "1          1       0\n",
       "2          1       0\n",
       "3          1       0\n",
       "4          1       0"
      ]
     },
     "execution_count": 120,
     "metadata": {},
     "output_type": "execute_result"
    }
   ],
   "source": [
    "# datas, classes = shuffle(load_breast_cancer().data, load_breast_cancer().target)\n",
    "\n",
    "dataset, classes = load_breast_cancer(return_X_y=True, as_frame=True)\n",
    "classesLabels = list(load_breast_cancer().target_names)\n",
    "print(classesLabels)\n",
    "\n",
    "\n",
    "classes = pd.get_dummies(classes, dtype=\"uint8\")\n",
    "\n",
    "# rename classes\n",
    "classes = classes.rename(\n",
    "    columns={\n",
    "        classes.columns[0]: classesLabels[0],\n",
    "        classes.columns[1]: classesLabels[1],\n",
    "    }\n",
    ")\n",
    "classes.head()"
   ]
  },
  {
   "cell_type": "markdown",
   "id": "a4d87dd5-2233-43e2-9f95-777a1f7bda99",
   "metadata": {},
   "source": [
    "Then we define test and training sets by distributing the data so that there is one-fifth of the data for the test and four-fifths for training."
   ]
  },
  {
   "cell_type": "code",
   "execution_count": 121,
   "id": "7a0ed78b-b077-4136-84a6-9f176f33c223",
   "metadata": {},
   "outputs": [],
   "source": [
    "nbSamples = dataset.shape[0]\n",
    "nbAttributes = len(dataset.columns)\n",
    "nbClasses = len(classes.columns)\n",
    "\n",
    "cutoff = int(0.75 * nbSamples)\n",
    "\n",
    "trainData = dataset.iloc[:cutoff, :]\n",
    "testData = dataset.iloc[cutoff:, :]\n",
    "trainClasses = classes.iloc[:cutoff]\n",
    "testClasses = classes.iloc[cutoff:]\n",
    "\n",
    "assert (trainData.shape[0] + testData.shape[0]) == nbSamples\n",
    "assert (trainClasses.shape[0] + testClasses.shape[0]) == nbSamples"
   ]
  },
  {
   "cell_type": "markdown",
   "id": "d123e58b-b85d-4b43-9e1d-fcc11b65eaa3",
   "metadata": {},
   "source": [
    "We can display the number of training and testing data and check that there is the same number of data as classes."
   ]
  },
  {
   "cell_type": "code",
   "execution_count": 122,
   "id": "7ce94b0e-e7ab-4d8f-9082-cb57da8b17cf",
   "metadata": {},
   "outputs": [
    {
     "name": "stdout",
     "output_type": "stream",
     "text": [
      "There are 426 train datas and 426 train classes\n",
      "There are 143 test datas and 143 test classes\n"
     ]
    }
   ],
   "source": [
    "print(f\"There are {trainData.shape[0]} train datas and {trainClasses.shape[0]} train classes\")\n",
    "print(f\"There are {testData.shape[0]} test datas and {testClasses.shape[0]} test classes\")"
   ]
  },
  {
   "cell_type": "markdown",
   "id": "7724b51a-a76f-4e3e-9e27-b1b0a40a148d",
   "metadata": {},
   "source": [
    "Now, we save the data in text files in a specific format. We create a folder BCWDataset inside a data folder if it doesn't already exist and we save the files here.\n",
    "For the classes, we encode in one hot format, with 1 on the position of the right class and 0 elsewhere."
   ]
  },
  {
   "cell_type": "code",
   "execution_count": 123,
   "id": "0a104b59-41da-4963-b799-70cb8544f8e7",
   "metadata": {},
   "outputs": [],
   "source": [
    "def create_folder(folder_path):\n",
    "    if not os.path.exists(folder_path):\n",
    "        os.makedirs(folder_path)\n",
    "        print(f\"Folder '{folder_path}' created successfully.\")\n",
    "\n",
    "rootDir = \"data/BCWDataset/\"\n",
    "create_folder(rootDir)\n",
    "\n",
    "# defining filenames\n",
    "datasetFile = \"datas.txt\"\n",
    "trainDataFile = \"trainData.txt\"\n",
    "testDataFile = \"testData.txt\"\n",
    "trainClassFile = \"trainClass.txt\"\n",
    "testClassFile = \"testClass.txt\"\n",
    "\n",
    "dataset.to_csv(rootDir+datasetFile, header=False, index=False)\n",
    "trainData.to_csv(rootDir+trainDataFile, header=False, index=False)\n",
    "trainClasses.to_csv(rootDir+trainClassFile, header=False, index=False)\n",
    "testData.to_csv(rootDir+testDataFile, header=False, index=False)\n",
    "testClasses.to_csv(rootDir+testClassFile, header=False, index=False)"
   ]
  },
  {
   "cell_type": "markdown",
   "id": "85a05c5c-ad03-4e58-96d7-6bbe04f79a0c",
   "metadata": {},
   "source": [
    "Finally, we normalize the data so that the model learns better. We save the mean and std of each attribute in the file normalization_stats.txt. We use the normalization file located in the trainings module. To display the parameters, you can just call normalization with no parameters, or with -h or --help. Without further details, we normalize with this command :"
   ]
  },
  {
   "cell_type": "code",
   "execution_count": 124,
   "id": "350d6c19-c2af-4a8e-893f-4b86fa9460e5",
   "metadata": {},
   "outputs": [
    {
     "name": "stdout",
     "output_type": "stream",
     "text": [
      "Parameters list:\n",
      " - root_folder                                                   data/BCWDataset/\n",
      " - nb_attributes                                                 30\n",
      " - missing_values                                                NaN\n",
      " - normalization_indices                                         [0, 1, 2, 3, 4, 5, 6, 7, 8, 9, 10, 11, 12, 13, 14, 15, 16, 17, 18, 19, 20, 21, 22, 23, 24, 25, 26, 27, 28, 29]\n",
      " - data_files                                                    ['data/BCWDataset/trainData.txt', 'data/BCWDataset/testData.txt']\n",
      " - output_normalization_file                                     data/BCWDataset/normalization_stats.txt\n",
      " - output_data_files                                             ['data/BCWDataset/trainData_normalized.txt', 'data/BCWDataset/testData_normalized.txt']\n",
      " - with_median                                                   False\n",
      " - fill_missing_values                                           True\n",
      "End of Parameters list. \n",
      "\n",
      "\n",
      "Full execution time = 0.298593 sec\n"
     ]
    },
    {
     "data": {
      "text/plain": [
       "0"
      ]
     },
     "execution_count": 124,
     "metadata": {},
     "output_type": "execute_result"
    }
   ],
   "source": [
    "#normalization(\"--help\")\n",
    "\n",
    "args = f\"\"\"\n",
    "        --data_files [{trainDataFile},{testDataFile}] \n",
    "        --nb_attributes {nbAttributes} \n",
    "        --missing_values NaN \n",
    "        --root_folder {rootDir}\n",
    "        \"\"\"\n",
    "normalization(args)"
   ]
  },
  {
   "cell_type": "markdown",
   "id": "70b34fc4-1e80-4eab-84ec-a0a4a28626fb",
   "metadata": {},
   "source": [
    "In order to generate beautiful and understandable rules, we still have to create an attribute file with attribute and class names.<br>\n",
    "For the attributes we have :"
   ]
  },
  {
   "cell_type": "code",
   "execution_count": 125,
   "id": "6634d478-316f-464d-9199-a8ea39883b28",
   "metadata": {},
   "outputs": [
    {
     "name": "stdout",
     "output_type": "stream",
     "text": [
      "['mean radius', 'mean texture', 'mean perimeter', 'mean area', 'mean smoothness', 'mean compactness', 'mean concavity', 'mean concave points', 'mean symmetry', 'mean fractal dimension', 'radius error', 'texture error', 'perimeter error', 'area error', 'smoothness error', 'compactness error', 'concavity error', 'concave points error', 'symmetry error', 'fractal dimension error', 'worst radius', 'worst texture', 'worst perimeter', 'worst area', 'worst smoothness', 'worst compactness', 'worst concavity', 'worst concave points', 'worst symmetry', 'worst fractal dimension']\n"
     ]
    }
   ],
   "source": [
    "attributes = list(dataset.columns)\n",
    "print(attributes)"
   ]
  },
  {
   "cell_type": "markdown",
   "id": "0a2ed3d0-cb53-4371-9ec8-76500422c93d",
   "metadata": {},
   "source": [
    "And for the classes :"
   ]
  },
  {
   "cell_type": "code",
   "execution_count": 126,
   "id": "2d5ee674-09b8-47a2-a927-d2b3de0c3c06",
   "metadata": {},
   "outputs": [
    {
     "name": "stdout",
     "output_type": "stream",
     "text": [
      "['malignant', 'benign']\n"
     ]
    }
   ],
   "source": [
    "classes = list(classes.columns)\n",
    "print(classes)"
   ]
  },
  {
   "cell_type": "markdown",
   "id": "1fb8d44f-be2c-485a-99dc-5e90ea7e74a1",
   "metadata": {},
   "source": [
    "We store the attributes and classes in a file attributes.txt and fill the spaces with _ and apply upper case."
   ]
  },
  {
   "cell_type": "code",
   "execution_count": 127,
   "id": "ba892ed9-0ae5-4711-a998-07bc668764f1",
   "metadata": {},
   "outputs": [],
   "source": [
    "attributesFileName = \"attributes.txt\" \n",
    "attributesFileContent = attributes + classesLabels\n",
    "attributesFileContent = [x.replace(\" \", \"_\") for x in attributesFileContent]\n",
    "\n",
    "with open(rootDir+attributesFileName, \"w\") as f:\n",
    "    for item in attributesFileContent:\n",
    "        f.write(item+'\\n')"
   ]
  },
  {
   "cell_type": "markdown",
   "id": "65c01997-d95c-4c99-8ea4-3dfa31d7ba2f",
   "metadata": {},
   "source": [
    "# Training of the model\n",
    "\n",
    "We train the dimlp model. First, let's import it and display the parameters that are needed and optional for training. Dimlp is able to train the model as well as generate rules with his own algorithm. The Fidex algorithms are an improvement that we'll see later on. We choose the training with DimlpBT, which is the same as Dimlp but with bagging.\n",
    "The main package name is dimlpfidex, and we need the dimlp module where DimlpBT is located. To display the parameters, we can just call dimlpBT with no parameters, or with -h or --help."
   ]
  },
  {
   "cell_type": "code",
   "execution_count": 128,
   "id": "25fb49df-c5d9-402a-b48d-23b34c1108d8",
   "metadata": {},
   "outputs": [
    {
     "name": "stdout",
     "output_type": "stream",
     "text": [
      "\n",
      "---------------------------------------------------------------------\n",
      "\n",
      "Warning! The files are localised with respect to root folder dimlpfidex.\n",
      "The arguments can be specified in the command or in a json configuration file with --json_config_file your_config_file.json.\n",
      "\n",
      "----------------------------\n",
      "\n",
      "Required parameters:\n",
      "\n",
      "--train_data_file <str>       Train data file\n",
      "--nb_attributes <int [1,inf[> Number of input neurons\n",
      "--nb_classes <int [2,inf[>    Number of output neurons\n",
      "\n",
      "----------------------------\n",
      "\n",
      "Optional parameters: \n",
      "\n",
      "--json_config_file <str>      JSON file to configure all parameters. If used, this must be the sole argument and must specify the file's relative path\n",
      "--root_folder <str>           Folder based on main folder dimlpfidex(default folder) containg all used files and where generated files will be saved. If a file name is specified with another option, his path will be configured with respect to this root folder\n",
      "--nb_dimlp_nets <int [1,inf[> Number of networks (default: 25)\n",
      "--attributes_file <str>       File of attributes\n",
      "--test_data_file <str>        Test data file\n",
      "--train_class_file <str>      Train true class file\n",
      "--test_class_file <str>       Test true class file\n",
      "--console_file <str>          File with console logs redirection\n",
      "--weights_outfile <str>       Output weights file name file (default: dimlpBT.wts)\n",
      "--train_pred_outfile <str>    Output train prediction file name (default: dimlpBTTrain.out)\n",
      "--test_pred_outfile <str>     Output test prediction file name (default: dimlpBTTest.out)\n",
      "--stats_file <str>            Output file name with train, test and validation accuracy and with the global train and test accuracy\n",
      "--first_hidden_layer <int k*nb_attributes, k in [1,inf[>\n",
      "                              Number of neurons in the first hidden layer (default: nb_attributes)\n",
      "--hidden_layers <list<int [1,inf[>>\n",
      "                              Number of neurons in each hidden layer, from the second layer through to the last\n",
      "--hidden_layers_outfile <str> Output hidden layers file name (default: hidden_layers.out)\n",
      "--with_rule_extraction <bool> Whether to extract rules with dimlpBT algorithm\n",
      "--global_rules_outfile <str>  Rules output file\n",
      "--momentum <float [0,inf[>    Back-propagation momentum parameter (default: 0.6)\n",
      "--flat <float [0,inf[>        Back-propagation flat spot elimination parameter (default: 0.01)\n",
      "--nb_quant_levels <int [3,inf[>\n",
      "                              Number of stairs in staircase activation function (default: 50)\n",
      "--error_thresh <float [0,inf[>\n",
      "                              Error threshold to stop training\n",
      "--acc_thresh <float ]0,1]>    Accuracy threshold to stop training\n",
      "--abs_error_thresh <float [0,inf[>\n",
      "                              Absolute difference error threshold, 0 if not using this stopping criteria (default: 0)\n",
      "--nb_epochs <int [1,inf[>     Number of epochs (default: 1500)\n",
      "--nb_epochs_error <int [1,inf[>\n",
      "                              Number of epochs to show error (default: 10)\n",
      "--nb_ex_per_net <int [1,inf[> Number of examples for one single network, 0 for all examples, it is not recommended to change this value (default: 0)\n",
      "--normalization_file <str>    File containing the mean and std of some attributes. Used to denormalize the rules if specified\n",
      "--mus <list<float ]inf,inf[>> Mean or median of each attribute index to denormalize in the rules\n",
      "--sigmas <list<float ]inf,inf[>>\n",
      "                              Standard deviation of each attribute index to denormalize in the rules\n",
      "--normalization_indices <list<int [0,nb_attributes-1]>>\n",
      "                              Attribute indices to denormalize in the rules, only used when no normalization_file is given, index starts at 0 (default: [0,...,nb_attributes-1])\n",
      "--seed <int [0,inf[>          Seed, 0=random (default: 0)\n",
      "\n",
      "----------------------------\n",
      "\n",
      "Execution example :\n",
      "\n",
      "dimlp.dimlpBT(\"--train_data_file datanormTrain.txt --train_class_file dataclass2Train.txt --test_data_file datanormTest.txt --test_class_file dataclass2Test.txt --nb_attributes 16 --hidden_layers 5 --nb_classes 2 --nb_dimlp_nets 2 --weights_outfile dimlpDatanormBT.wts --with_rule_extraction true --global_rules_outfile globalRules.rls --train_pred_outfile predTrain.out --test_pred_outfile predTest.out --stats_file stats.txt --root_folder dimlp/datafiles\")\n",
      "\n",
      "---------------------------------------------------------------------\n",
      "\n"
     ]
    }
   ],
   "source": [
    "res = dimlpBT(\"--help\")"
   ]
  },
  {
   "cell_type": "markdown",
   "id": "69cf5278-16aa-4455-8114-bd3c9b2a5359",
   "metadata": {},
   "source": [
    "Now we can run dimlpBT with the right parameters.<br>\n",
    "\n",
    "As we see in the parameter list, we need to give the train data file(--train_data_file), the number of input neurons of the model(--nb_attributes), which is the number of attributes, and the number of output neurons(--nb_classes) which is the number of classes.<br>\n",
    "For this dataset, we recommend adding a hidden layer (--hidden_layers) of size 5 or 10 in the model architecture. Here we choose 5.\n",
    "\n",
    "In the training file, we can also have the classes, but here we've chosen to save them in a different file, so we add it too with --train_class_file.<br>\n",
    "To get test predictions and statistics, we specify a test data file and test class file with --test_data_file and --test_class_file.<br>\n",
    "We choose the names for the files of statistics(--stats_file), train(--train_pred_outfile) and test predictions(--test_pred_outfile), and weights(--weights_outfile).<br>\n",
    "We specify with --root_folder the folder where we have all the data files and where we want to save the results. <br>\n",
    "\n",
    "This is enough to train our model, but we can add the computation of explaining rules with the Dimlp algorithm. You will be able to compare the rules obtained with the Dimlp algorithm and with the Fidex one. We just add --with_rule_extraction to ask for the computation of the rules, --global_rules_outfile to specify the name of the rules file, and --attributes_file, to give the attribute and class names that will appear in the rules.<br>\n",
    "\n",
    "As there are a lot of things to be written on output, we save the program output with --console_file. If you remove it you may have some neverending execution problem in the notebook. <br>\n",
    "\n",
    "To execute dimlpBT, we can either write the whole command (see the commented line below) or call a JSON configuration file (--json_config_file) containing each parameter as we want. All configuration files are located in the data folder. You can create new ones or modify them as you like by adding, removing, or modifying some parameters. To create a new file, we recommend you use our graphical user interface (GUI). <br>\n",
    "\n",
    "Additionally, we have a notebook that explains how to use this GUI, providing detailed instructions and practical examples. We encourage you to read this notebook to get the most out of our tools. You can access the notebook by following this link: **Link to the notebook**. <br>\n",
    "\n",
    "Here is how we execute dimlpBT :"
   ]
  },
  {
   "cell_type": "code",
   "execution_count": 129,
   "id": "e804d87b-b2dc-4946-9e99-caf1fa3fa066",
   "metadata": {},
   "outputs": [
    {
     "name": "stdout",
     "output_type": "stream",
     "text": [
      "Training done\n"
     ]
    }
   ],
   "source": [
    "# Creation of Weights folder if it doesn't exist\n",
    "create_folder(\"data/BCWDataset/Weights\")\n",
    "#result = dimlp.dimlpBT(\"--train_data_file trainData_normalized.txt --train_class_file trainClass.txt --test_data_file testData_normalized.txt --test_class_file testClass.txt --attributes_file attributes.txt --nb_attributes 30 --hidden_layers 5 --nb_classes 2 --weights_outfile Weights/weights.wts --with_rule_extraction true --global_rules_outfile dimlpBTRules.rls --train_pred_outfile predTrain.out --test_pred_outfile predTest.out --stats_file stats.txt --console_file resultDimlpBT.txt --root_folder data/BCWDataset\")\n",
    "result = dimlpBT(\"--json_config_file data/BCWTemplates/config_dimlpBT.json\")\n",
    "if (result == 0):\n",
    "    print(\"Training done\")"
   ]
  },
  {
   "cell_type": "markdown",
   "id": "47c12044-2b09-4b7c-82b4-e6285ef55dfc",
   "metadata": {},
   "source": [
    "If you go to the folder data/BCWDataset and open the file result.txt, you can see that the training went through, and some rules were computed. You can now open the file stats.txt in the same folder to see the train and test accuracy as well as the sum squared errors. In the folder, you can also see the train and test predictions, the weights obtained for Fidex, and the dimlpRules.<br>\n",
    "\n",
    "In the file dimlpRules.txt, you can see the rule set, some statistics on the rules, and some statistics on the ruleset. Each rule is composed of antecedents and target class as well as the number of covering of the rule, which is the number of examples that verify(or \"activate\") the rule (even if the class is not correct).<br>\n",
    "\n",
    "For each rule, we have from left to right:<br>\n",
    "The number of covered samples, the number of correct covered samples, the number of false covered samples, and the accuracy of the rule.<br>\n",
    "\n",
    "The statistics of the ruleset are: <br>\n",
    "- The number of rules in the set\n",
    "- The mean total and the mean number of antecedents per rule\n",
    "- The covering of the rule\n",
    "- The rules' accuracy\n",
    "- The fidelity to the model, which is the percentage of covered samples that are correct with respect to the model's decision.\n",
    "- The model accuracy if we keep only the samples for which the model and the rules decision agree\n",
    "- The default rule activation rate, which is the percentage of samples for which no rule is activated"
   ]
  },
  {
   "cell_type": "markdown",
   "id": "a0865c6d-1648-4a61-8962-e81690b8d491",
   "metadata": {},
   "source": [
    "# Local rules generation - Fidex\n",
    "Now we can generate some local rules to explain the models' results. We can start with launching Fidex on one test sample. This will generate a rule explaining the sample locally. It is local because the algorithm searches a rule only for one sample.\n",
    "Fidex is located in the fidex module. Let's take a look at the parameters :"
   ]
  },
  {
   "cell_type": "code",
   "execution_count": 130,
   "id": "368222c7-c0f8-4af0-a6a7-7adf290b7192",
   "metadata": {},
   "outputs": [
    {
     "name": "stdout",
     "output_type": "stream",
     "text": [
      "\n",
      "---------------------------------------------------------------------\n",
      "\n",
      "Warning! The files are localised with respect to root folder dimlpfidex.\n",
      "The arguments can be specified in the command or in a json configuration file with --json_config_file your_config_file.json.\n",
      "\n",
      "----------------------------\n",
      "\n",
      "Required parameters:\n",
      "\n",
      "--train_data_file <str>       Train data file\n",
      "--train_pred_file <str>       Train prediction file\n",
      "--train_class_file <str>      Train true class file, not mandatory if classes are specified in train data file\n",
      "--test_data_file <str>        Test sample(s) data file with data, prediction(if no --test_pred_file) and true class(if no --test_class_file)\n",
      "--weights_file <str>          Weights file (not mandatory if a rules file is given with --rules_file)\n",
      "--rules_file <str>            Rules file to be converted to hyperlocus (not mandatory if a weights file is given with --weights_file)\n",
      "--rules_outfile <str>         Rule(s) output file. If a .json filename is given, rules are saved in a special json format\n",
      "--nb_attributes <int [1,inf[> Number of attributes in dataset\n",
      "--nb_classes <int [2,inf[>    Number of classes in dataset\n",
      "\n",
      "----------------------------\n",
      "\n",
      "Optional parameters: \n",
      "\n",
      "--json_config_file <str>      JSON file to configure all parameters. If used, this must be the sole argument and must specify the file's relative path\n",
      "--root_folder <str>           Folder based on main folder dimlpfidex(default folder) containg all used files and where generated files will be saved. If a file name is specified with another option, his path will be configured with respect to this root folder\n",
      "--test_pred_file <str>        Test prediction file\n",
      "--test_class_file <str>       Test true class file. If at least --test_pred_file is specified, --test_data_file needs to have only test datas and eventually classes on same line (don't add --test_class_file in this case)\n",
      "--attributes_file <str>       File of attributes\n",
      "--stats_file <str>            Output statistic file name\n",
      "--console_file <str>          File with console logs redirection\n",
      "--max_iterations <int [1,inf[>\n",
      "                              Max iteration number, also the max possible number of attributs in a rule, should be 25 if working with images (default: 10)\n",
      "--min_covering <int [1,inf[>  Minimum covering number (default: 2)\n",
      "--covering_strategy <bool>    Whether to use this strategy : if no rule is found with min_covering, find best rule with best covering using dichotomic search. Decreases min_fidelity if needed (default: True)\n",
      "--max_failed_attempts <int [0,inf[>\n",
      "                              Maximum number of failed attempts to find Fidex rule when covering is 1 and covering strategy is used (default: 30)\n",
      "--min_fidelity <float [0,1]>  Minimal rule fidelity accepted when generating a rule (default: 1.0)\n",
      "--lowest_min_fidelity <float [0,1]>\n",
      "                              Minimal min_fidelity to which we agree to go down during covering_strategy (default: 0.75)\n",
      "--dropout_dim <float [0,1]>   Dimension dropout parameter (default: 0.0)\n",
      "--dropout_hyp <float [0,1]>   Hyperplan dropout parameter (default: 0.0)\n",
      "--nb_quant_levels <int [3,inf[>\n",
      "                              Number of stairs in staircase activation function (default: 50)\n",
      "--decision_threshold <float [0,1]>\n",
      "                              Decision threshold for predictions, you need to specify the index of positive class if you want to use it\n",
      "--positive_class_index <int [0,nb_classes-1]>\n",
      "                              Index of positive class for the usage of decision threshold, index starts at 0\n",
      "--normalization_file <str>    File containing the mean and std of some attributes. Used to denormalize the rules if specified\n",
      "--mus <list<float ]inf,inf[>> Mean or median of each attribute index to denormalize in the rules\n",
      "--sigmas <list<float ]inf,inf[>>\n",
      "                              Standard deviation of each attribute index to denormalize in the rules\n",
      "--normalization_indices <list<int [0,nb_attributes-1]>>\n",
      "                              Attribute indices to denormalize in the rules, only used when no normalization_file is given, index starts at 0 (default: [0,...,nb_attributes-1])\n",
      "--seed <int [0,inf[>          Seed, 0=random (default: 0)\n",
      "\n",
      "----------------------------\n",
      "\n",
      "Execution example :\n",
      "\n",
      "fidex.fidex(\"--train_data_file datanormTrain.txt --train_pred_file predTrain.out --train_class_file dataclass2Train.txt --test_data_file testSampleDataCombine.txt --nb_attributes 16 --nb_classes 2 --weights_file weights.wts --rules_outfile rules.rls --stats_file stats.txt --root_folder dimlp/datafiles\")\n",
      "\n",
      "---------------------------------------------------------------------\n",
      "\n"
     ]
    }
   ],
   "source": [
    "res = fidex(\"--help\")"
   ]
  },
  {
   "cell_type": "markdown",
   "id": "b4603d85-d0eb-4fb1-bd50-e66cac47b936",
   "metadata": {},
   "source": [
    "We see that we need the number of attributes and classes, the train and test data and class files, as well as train and test predictions, weights file name, and rule output file name where the rules will be saved.<br>\n",
    "We specify as well the saved folder and the attributes.<br>\n",
    "We also need to specify the normalization file obtained from training, to denormalize the values in the generated rule, otherwise the values will be normalized and impossible to interpret.<br>\n",
    "\n",
    "To see what happens, we launch it with just one sample, and we save beforehand the test data sample in a file with its class and predictions:"
   ]
  },
  {
   "cell_type": "code",
   "execution_count": 131,
   "id": "add3ff77-f54f-4288-b7fa-3c780a617653",
   "metadata": {},
   "outputs": [
    {
     "name": "stdout",
     "output_type": "stream",
     "text": [
      "Parameters list:\n",
      " - train_data_file                                             data/BCWDataset/trainData_normalized.txt\n",
      " - train_pred_file                                                        data/BCWDataset/predTrain.out\n",
      " - train_class_file                                                      data/BCWDataset/trainClass.txt\n",
      " - test_data_file                                                    data/BCWDataset/testDataSample.txt\n",
      " - rules_outfile                                                               data/BCWDataset/rule.rls\n",
      " - root_folder                                                                          data/BCWDataset\n",
      " - attributes_file                                                       data/BCWDataset/attributes.txt\n",
      " - weights_file                                                     data/BCWDataset/Weights/weights.wts\n",
      " - normalization_file                                           data/BCWDataset/normalization_stats.txt\n",
      " - nb_attributes                                                                                     30\n",
      " - nb_classes                                                                                         2\n",
      " - nb_quant_levels                                                                                   50\n",
      " - max_iterations                                                                                    10\n",
      " - min_covering                                                                                       2\n",
      " - max_failed_attempts                                                                               30\n",
      " - positive_class_index                                                                              -1\n",
      " - seed                                                                                               0\n",
      " - decision_threshold                                                                         -1.000000\n",
      " - hi_knot                                                                                     5.000000\n",
      " - dropout_hyp                                                                                 0.000000\n",
      " - dropout_dim                                                                                 0.000000\n",
      " - min_fidelity                                                                                1.000000\n",
      " - lowest_min_fidelity                                                                         0.750000\n",
      " - covering_strategy                                                                                  1\n",
      "End of Parameters list.\n",
      "\n",
      "Import files...\n",
      "\n",
      "Import time = 0.077462 sec\n",
      "Files imported\n",
      "\n",
      "----------------------------------------------\n",
      "\n",
      "Creation of hyperspace...\n",
      "\n",
      "Parameters of hyperLocus :\n",
      "\n",
      "- Number of stairs 50\n",
      "- Interval : [-5,5]\n",
      "\n",
      "Import weight file...\n",
      "HyperLocus computed\n",
      "\n",
      "Hyperspace created\n",
      "\n",
      "Searching for discriminating hyperplans...\n",
      "Initial fidelity : 0.593897\n",
      "Final fidelity : 1\n",
      "Discriminating hyperplans generated.\n",
      "\n",
      "\n",
      "Extracted rule :\n",
      "mean_concave_points<0.051668 worst_texture>=40.227517 -> benign\n",
      "   Train Covering size : 2\n",
      "   Train Fidelity : 1\n",
      "   Train Accuracy : 1\n",
      "   Train Confidence : 0.904633\n",
      "\n",
      "Result found after 2 iterations.\n",
      "-------------------------------------------------\n",
      "\n",
      "Time without data import = 2.64564 sec\n",
      "\n",
      "Full execution time = 2.72569 sec\n"
     ]
    }
   ],
   "source": [
    "testPredsFile = \"predTest.out\"\n",
    "testSampleFile = \"testDataSample.txt\"\n",
    "testPreds = pd.read_csv(rootDir+testPredsFile, sep=\" \", header=None, index_col=None).iloc[:, :nbClasses]\n",
    "testDatasNormalized = pd.read_csv(rootDir+testDataFile, header=None, index_col=None)\n",
    "\n",
    "sampleSelected = 0\n",
    "assert(sampleSelected < nbSamples)\n",
    "\n",
    "# extract a sample to generate local rule\n",
    "sampleData = testData.iloc[sampleSelected, :nbAttributes].to_list()\n",
    "samplePred = testPreds.iloc[sampleSelected, :].to_list()\n",
    "sampleClasses = testData.iloc[sampleSelected, nbAttributes:].to_list()\n",
    "\n",
    "# write the sample, classes and predictions in the testSampleFile file (file writing format must be respected)\n",
    "with open(rootDir+testSampleFile, 'w') as f:\n",
    "    f.write(\" \".join(str(x) for x in sampleData) + '\\n')\n",
    "    f.write(\" \".join(str(x) for x in samplePred) + '\\n')\n",
    "    f.write(\" \".join(str(x) for x in sampleClasses) + '\\n')\n",
    "\n",
    "#res = fidex.fidex(\"--train_data_file trainData_normalized.txt --train_pred_file predTrain.out --train_class_file trainClass.txt --test_data_file testDataSample.txt --weights_file Weights/weights.wts --attributes_file attributes.txt --rules_outfile rule.rls --nb_attributes 30 --nb_classes 2 --normalization_file normalization_stats.txt --root_folder data/BCWDataset\")\n",
    "res = fidex(\"--json_config_file data/BCWTemplates/config_fidexOne.json\")"
   ]
  },
  {
   "cell_type": "markdown",
   "id": "e1dcf258-9284-4a41-817b-9158f321a2df",
   "metadata": {},
   "source": [
    "You can see the walkthrough of the algorithm and the rule extracted. The rule is also saved in the rule.rls file. With the rule, we see also the covering size of the rule on the training set, the fidelity, the accuracy, and the confidence of the rule. The confidence shows how much the rule is confident with his choices, with respect to the prediction values.<br>\n",
    "\n",
    "Now, we execute Fidex with all test samples. We send the console output in the fidexResult.txt file and save the global statistics in fidexStats.txt. **It should take about a minute**."
   ]
  },
  {
   "cell_type": "code",
   "execution_count": 132,
   "id": "2475dc1f-0815-476b-a695-9869598dcd74",
   "metadata": {},
   "outputs": [
    {
     "name": "stdout",
     "output_type": "stream",
     "text": [
      "Fidex done\n"
     ]
    }
   ],
   "source": [
    "#res = fidex.fidex(\"--train_data_file trainData_normalized.txt --train_pred_file predTrain.out --train_class_file trainClass.txt --test_data_file testData_normalized.txt --test_class_file testClass.txt --test_pred_file predTest.out --weights_file Weights/weights.wts --attributes_file attributes.txt --rules_outfile fidexRules.rls --stats_file fidexStats.txt --console_file fidexResult.txt --nb_attributes 30 --nb_classes 2 --normalization_file normalization_stats.txt --root_folder data/BCWDataset\")\n",
    "res = fidex(\"--json_config_file data/BCWTemplates/config_fidex.json\")\n",
    "\n",
    "if (res == 0):\n",
    "    print(\"Fidex done\")"
   ]
  },
  {
   "cell_type": "markdown",
   "id": "e5c4f8fe-ec3d-4231-866a-e4361dd323be",
   "metadata": {},
   "source": [
    "You can see the rules generated for each sample in the file fidexRules.rls. The global statistics on the test set appear in statsFidex.txt. There is the mean covering size per rule, the mean number of antecedents per rule, and the mean rule fidelity, accuracy, and confidence."
   ]
  },
  {
   "cell_type": "markdown",
   "id": "1a2c1cad-7802-47e5-bc09-aa28967913cc",
   "metadata": {},
   "source": [
    "# Global ruleSet generation - FidexGlo\n",
    "We've seen how to compute a rule that explains the decision of the model for a specific sample. Now, we will generalize a ruleset that characterizes the whole train dataset. That means that for each training sample, there is a rule in the set of rules that explains the model's decision for this sample. We will use this global ruleset to explain the results obtained on new test samples. If there is a rule of the ruleset corresponding to the sample, we take this one and get a global explanation for the sample. If there is none, we call Fidex and only have a local explanation.<br>\n",
    "\n",
    "To get the ruleSet we execute fidexGloRules which is located in the fidex module. Here are the possible parameters :"
   ]
  },
  {
   "cell_type": "code",
   "execution_count": 133,
   "id": "8286ec5a-306b-4048-84cb-7358c2647863",
   "metadata": {},
   "outputs": [
    {
     "name": "stdout",
     "output_type": "stream",
     "text": [
      "\n",
      "---------------------------------------------------------------------\n",
      "\n",
      "Warning! The files are localised with respect to root folder dimlpfidex.\n",
      "The arguments can be specified in the command or in a json configuration file with --json_config_file your_config_file.json.\n",
      "\n",
      "----------------------------\n",
      "\n",
      "Required parameters:\n",
      "\n",
      "--train_data_file <str>       Train data file\n",
      "--train_pred_file <str>       Train prediction file\n",
      "--train_class_file <str>      Train true class file, not mandatory if classes are specified in train data file\n",
      "--weights_file <str>          Weights file (not mandatory if a rules file is given with --rules_file)\n",
      "--rules_file <str>            Rules file to be converted to hyperlocus (not mandatory if a weights file is given with --weights_file)\n",
      "--global_rules_outfile <str>  Rules output file. If a .json filename is given, rules are saved in a special json format>\n",
      "--heuristic <int [1,3]>       Heuristic 1: optimal fidexGlo, 2: fast fidexGlo 3: very fast fidexGlo\n",
      "--nb_attributes <int [1,inf[> Number of attributes in dataset\n",
      "--nb_classes <int [2,inf[>    Number of classes in dataset\n",
      "\n",
      "----------------------------\n",
      "\n",
      "Optional parameters: \n",
      "\n",
      "--json_config_file <str>      JSON file to configure all parameters. If used, this must be the sole argument and must specify the file's relative path\n",
      "--root_folder <str>           Folder based on main folder dimlpfidex(default folder) containg all used files and where generated files will be saved. If a file name is specified with another option, his path will be configured with respect to this root folder\n",
      "--attributes_file <str>       File of attributes\n",
      "--console_file <str>          File with console logs redirection\n",
      "--max_iterations <int [1,inf[>\n",
      "                              Max iteration number, also the max possible number of attributs in a rule, should be 25 if working with images (default: 10)\n",
      "--min_covering <int [1,inf[>  Minimum covering number (default: 2)\n",
      "--covering_strategy <bool>    Whether to use this strategy : if no rule is found with min_covering, find best rule with best covering using dichotomic search. Decreases min_fidelity if needed (default: True)\n",
      "--max_failed_attempts <int [0,inf[>\n",
      "                              Maximum number of failed attempts to find Fidex rule when covering is 1 and covering strategy is used (default: 30)\n",
      "--min_fidelity <float [0,1]>  Minimal rule fidelity accepted when generating a rule (default: 1.0)\n",
      "--lowest_min_fidelity <float [0,1]>\n",
      "                              Minimal min_fidelity to which we agree to go down during covering_strategy (default: 0.75)\n",
      "--dropout_dim <float [0,1]>   Dimension dropout parameter (default: 0.0)\n",
      "--dropout_hyp <float [0,1]>   Hyperplan dropout parameter (default: 0.0)\n",
      "--nb_quant_levels <int [3,inf[>\n",
      "                              Number of stairs in staircase activation function (default: 50)\n",
      "--decision_threshold <float [0,1]>\n",
      "                              Decision threshold for predictions, you need to specify the index of positive class if you want to use it\n",
      "--positive_class_index <int [0,nb_classes-1]>\n",
      "                              Index of positive class for the usage of decision threshold, index starts at 0\n",
      "--normalization_file <str>    File containing the mean and std of some attributes. Used to denormalize the rules if specified\n",
      "--mus <list<float ]inf,inf[>> Mean or median of each attribute index to denormalize in the rules\n",
      "--sigmas <list<float ]inf,inf[>>\n",
      "                              Standard deviation of each attribute index to denormalize in the rules\n",
      "--normalization_indices <list<int [0,nb_attributes-1]>>\n",
      "                              Attribute indices to denormalize in the rules, only used when no normalization_file is given, index starts at 0 (default: [0,...,nb_attributes-1])\n",
      "--nb_threads <int [1,nb_cores]>\n",
      "                              Number of threads used for computing the algorithm, 1=sequential execution (default: 1)\n",
      "--seed <int [0,inf[>          Seed, 0=random (default: 0)\n",
      "\n",
      "----------------------------\n",
      "\n",
      "Execution example :\n",
      "\n",
      "fidex.fidexGloRules(\"--train_data_file datanormTrain.txt --train_pred_file predTrain.out --train_class_file dataclass2Train.txt --weights_file weights.wts --nb_attributes 16 --nb_classes 2 --heuristic 1 --global_rules_outfile globalRules.rls --root_folder dimlp/datafiles\")\n",
      "\n",
      "---------------------------------------------------------------------\n",
      "\n"
     ]
    }
   ],
   "source": [
    "res = fidexGloRules(\"--help\")"
   ]
  },
  {
   "cell_type": "markdown",
   "id": "665be28c-c788-41c2-ae00-b7a7b3118c2b",
   "metadata": {},
   "source": [
    "We use nearly the same parameters as for Fidex but we only need train data. We need to choose a heuristic for fidexGloRules, we choose the optimal to get better results. We don't forget to add the normalization file.<br>\n",
    "**It should take about 3 minutes**. If you have several processors available, you should add the parameter nb_threads with the number of processors that you want to use, it can speed up the process a lot. If you want to accelerate the process even more, you can use some dropout, the algorithm will randomly skip some dimensions or some hyperplans. For example, you can put: -d 0.5 -h 0.5, to skip half dimensions and half hyperplans, which should be about 4 times faster."
   ]
  },
  {
   "cell_type": "code",
   "execution_count": 134,
   "id": "26e0d897-ab14-4e8d-a0f9-da7fe35bfb59",
   "metadata": {},
   "outputs": [
    {
     "name": "stdout",
     "output_type": "stream",
     "text": [
      "FidexGloRules done\n"
     ]
    }
   ],
   "source": [
    "#res = fidex.fidexGloRules(\"--train_data_file trainData_normalized.txt --train_pred_file predTrain.out --train_class_file trainClass.txt --weights_file Weights/weights.wts --attributes_file attributes.txt --nb_attributes 30 --nb_classes 2 --heuristic 1 --global_rules_outfile globalRules.rls --console_file fidexGloRulesResult.txt --normalization_file normalization_stats.txt --root_folder data/BCWDataset\")\n",
    "res = fidexGloRules(\"--json_config_file data/BCWTemplates/config_fidexGloRules.json\")\n",
    "if (res == 0):\n",
    "    print(\"FidexGloRules done\")"
   ]
  },
  {
   "cell_type": "markdown",
   "id": "c5e7b780-5fc6-4d0a-a82e-1b86ed6853d4",
   "metadata": {},
   "source": [
    "You can see the console result in the file fidexGloRulesResult.txt and the ruleset in the file globalRules.rls.\n",
    "The algorithm is random, so each execution may generate different rules and a different number of them. It should generate about 25 rules. You can see at the top of the globalRules file the number of rules, the mean covering number per rule, and the mean number of antecedents. Here is an example of a rule that you may obtain:<br>\n",
    "\n",
    "Rule 1: WORST_CONCAVE_POINTS<0.111377 AREA_ERROR<37.691316 -> BENIGN <br>\n",
    "   Train Covering size : 217 <br>\n",
    "   Train Fidelity : 1 <br>\n",
    "   Train Accuracy : 0.990783 <br>\n",
    "   Train Confidence : 0.984811 <br>\n",
    "\n",
    "This rule is the first rule, which means that it's the rule with the maximum covering. Here, 217 train samples verify this rule. She is 100% fidel with the model and has about 99% train accuracy.\n",
    "This rule says that if you have worst concave points lower than 0.111377 and an area error lower than 37.691316, then your breast cancer is benign. And this rule is accurate, on train test, at 99% and has 98% of confidence.<br>\n",
    "\n",
    "Now, we can see some global statistics on the test set, and also some statistics directly on each rule. So we will see the test accuracy on this rule.<br>\n",
    "We execute fidexGloStats which is located in the fidex module. First, let's check the parameters :"
   ]
  },
  {
   "cell_type": "code",
   "execution_count": 135,
   "id": "6d6aaa70-4ffa-4205-99f8-840d67b260cf",
   "metadata": {},
   "outputs": [
    {
     "name": "stdout",
     "output_type": "stream",
     "text": [
      "\n",
      "---------------------------------------------------------------------\n",
      "\n",
      "Warning! The files are localised with respect to root folder dimlpfidex.\n",
      "The arguments can be specified in the command or in a json configuration file with --json_config_file your_config_file.json.\n",
      "\n",
      "----------------------------\n",
      "\n",
      "Required parameters:\n",
      "\n",
      "--test_data_file <str>        Test data file\n",
      "--test_pred_file <str>        Test prediction file\n",
      "--test_class_file <str>       Test true class file, not mandatory if classes are specified in test data file\n",
      "--global_rules_file <str>     Ruleset input file\n",
      "--nb_attributes <int [1,inf[> Number of attributes in dataset\n",
      "--nb_classes <int [2,inf[>    Number of classes in dataset\n",
      "\n",
      "----------------------------\n",
      "\n",
      "Optional parameters: \n",
      "\n",
      "--json_config_file <str>      JSON file to configure all parameters. If used, this must be the sole argument and must specify the file's relative path\n",
      "--root_folder <str>           Folder based on main folder dimlpfidex(default folder) containg all used files and where generated files will be saved. If a file name is specified with another option, his path will be configured with respect to this root folder\n",
      "--attributes_file <str>       File of attributes> Mandatory if rules file contains attribute names, if not, do not add it\n",
      "--stats_file <str>            Output statistic file name\n",
      "--global_rules_outfile <str>  Global ruleset output file with stats on test set, if you want to compute statistics of global rules on tests set\n",
      "--console_file <str>          File with console logs redirection\n",
      "--positive_class_index <int [0,nb_classes-1]>\n",
      "                              Index of positive class to compute true/false positive/negative rates, index starts at 0. If it is specified in the rules file, it has to be the same value.\n",
      "\n",
      "----------------------------\n",
      "\n",
      "Execution example :\n",
      "\n",
      "fidex.fidexGloStats(\"--test_data_file datanormTest.txt --test_pred_file predTest.out --test_class_file dataclass2Test.txt --global_rules_file globalRules.rls --nb_attributes 16 --nb_classes 2 --stats_file stats.txt --root_folder dimlp/datafiles\")\n",
      "\n",
      "---------------------------------------------------------------------\n",
      "\n"
     ]
    }
   ],
   "source": [
    "res = fidexGloStats(\"--help\")"
   ]
  },
  {
   "cell_type": "markdown",
   "id": "b8b7ebed-01b9-4016-addb-d99839f7be74",
   "metadata": {},
   "source": [
    "We need the test files(data, prediction, class), the rules file, and the number of attributes and classes. We need to specify the attribute file as well. We choose to save the results in the file fidexGloStats.txt. With --global_rules_outfile we can generate the statistics on rules which will modify the rules file. If you want to keep the first ruleSet unchanged, you should give another name. Finally, with --positive_class_index we can specify the positive class in order to get a ROC curve and some other statistics on false and true positives/negatives. We will design the malignant class as positive. So here is the command :"
   ]
  },
  {
   "cell_type": "code",
   "execution_count": 136,
   "id": "375ef5c0-aca8-4e1a-a842-ed229d23e8a0",
   "metadata": {},
   "outputs": [
    {
     "name": "stdout",
     "output_type": "stream",
     "text": [
      "Parameters list:\n",
      " - test_data_file                                                          data/BCWDataset/testData.txt\n",
      " - test_pred_file                                                          data/BCWDataset/predTest.out\n",
      " - test_class_file                                                        data/BCWDataset/testClass.txt\n",
      " - global_rules_outfile                                                 data/BCWDataset/globalRules.rls\n",
      " - global_rules_file                                                    data/BCWDataset/globalRules.rls\n",
      " - root_folder                                                                          data/BCWDataset\n",
      " - attributes_file                                                       data/BCWDataset/attributes.txt\n",
      " - stats_file                                                         data/BCWDataset/fidexGloStats.txt\n",
      " - nb_attributes                                                                                     30\n",
      " - nb_classes                                                                                         2\n",
      " - positive_class_index                                                                               0\n",
      "End of Parameters list.\n",
      "\n",
      "Importing files...\n",
      "\n",
      "Data imported.\n",
      "\n",
      "Compute statistics...\n",
      "\n",
      "Global statistics of the rule set : \n",
      "Number of rules : 27, mean sample covering number per rule : 76.925926, mean number of antecedents per rule : 1.814815\n",
      "\n",
      "Statistics with a test set of 143 samples :\n",
      "\n",
      "No decision threshold is used.\n",
      "Positive index class used : 0\n",
      "The global rule fidelity rate is : 0.993007\n",
      "The global rule accuracy is : 0.993007\n",
      "The explainability rate (when we can find one or more rules, either correct ones or activated ones which all agree on the same class) is : 0.972028\n",
      "The default rule rate (when we can't find any rule activated for a sample) is : 0.027972\n",
      "The mean number of correct(fidel) activated rules per sample is : 4.286713\n",
      "The mean number of wrong(not fidel) activated rules per sample is : 0.076923\n",
      "The model test accuracy is : 0.986014\n",
      "The model test accuracy when rules and model agree is : 0.992958\n",
      "The model test accuracy when activated rules and model agree is : 0.992754\n",
      "\n",
      "With positive class malignant :\n",
      "\n",
      "Computation with model decision :\n",
      "The number of true positive test samples is : 35\n",
      "The number of false positive test samples is : 2\n",
      "The number of true negative test samples is : 106\n",
      "The number of false negative test samples is : 0\n",
      "The false positive rate is : 0.018519\n",
      "The false negative rate is : 0.000000\n",
      "The precision is : 0.945946\n",
      "The recall is : 1.000000\n",
      "\n",
      "Computation with rules decision :\n",
      "The number of true positive test samples is : 35\n",
      "The number of false positive test samples is : 1\n",
      "The number of true negative test samples is : 107\n",
      "The number of false negative test samples is : 0\n",
      "The false positive rate is : 0.009259\n",
      "The false negative rate is : 0.000000\n",
      "The precision is : 0.972222\n",
      "The recall is : 1.000000\n",
      "\n",
      "Full execution time = 0.030474 sec\n"
     ]
    }
   ],
   "source": [
    "#res = fidex.fidexGloStats(\"--test_data_file testData.txt --test_pred_file predTest.out --test_class_file testClass.txt --attributes_file attributes.txt --global_rules_file globalRules.rls --global_rules_outfile globalRules.rls --nb_attributes 30 --nb_classes 2 --stats_file fidexGloStats.txt --positive_class_index 0 --root_folder data/BCWDataset\")\n",
    "res = fidexGloStats(\"--json_config_file data/BCWTemplates/config_fidexGloStats.json\")"
   ]
  },
  {
   "cell_type": "markdown",
   "id": "c523c382-b2ed-413e-84e7-c0d39c6d1bf5",
   "metadata": {},
   "source": [
    "Here you can see the global statistics on the test set. As the previous calculations have randomness, each execution is a bit different. So here we will discuss the same case as before, so you may have slightly different results. In our case, we had about 98% fidelity, which is good, and a rule accuracy(96.5%) about 1.5% lower than the model accuracy(98%). So the rules seem to classify a bit worse. The explainability rate is the percentage of samples for which we can find a rule in the rules set. For the others, we need to execute Fidex (this is the default rule rate). In our case, we had more than a 97% explainability rate, so only in 3% of cases do we need to compute Fidex. Each rule can activate many rules. Here on average, a sample activates 5 correct rules and 0.05 wrong rules. A wrong rule is a rule with which the model doesn't agree. For example, if the rule says malign and the model says benign. Something interesting is the model test accuracy when rules and model agree. You can see that, generally, the accuracy increases if we consider samples where rules and model agree, and increases even more if we take only the activated rules (when there are no activated rules, we choose the model prediction). That means that the rules confirm well the model decision, but when no rule is found, the model decision may as well be wrong. <br>\n",
    "\n",
    "Finally, we have the statistics on the positive/negative decisions of the model and of the rules. For the model's decisions, we had 1% false positives and 7% false negatives. That means that when the model says that it's malign, it has a 99% chance of being malign. But when it says that it's benign, there is a 7% risk that it is malign in reality. So the precision is 97% and the recall is 93%.\n",
    "\n",
    "In the case of the rules decisions, the rules decision is the same as the model if we find a correct rule. If there is no rule, we can launch Fidex, so it's also the same decision as the model because it will create a fidel rule. The only scenario when the decision changes from the model's is when some rules are activated, all rules decide the same class which is not the class chosen by the model. The results are really close with 95% of precision and 93% of recall."
   ]
  },
  {
   "cell_type": "markdown",
   "id": "d5400680-5058-4f75-97f1-552b1cead6d8",
   "metadata": {},
   "source": [
    "In globalRules file, you can now see the statistics of rules on the test set. Here is the same rule as before that I have now:<br>\n",
    "\n",
    "Rule 1: MEAN_CONCAVE_POINTS<0.041282 WORST_CONCAVE_POINTS<0.150829 -> BENIGN <br>\n",
    "   Train Covering size : 217 --- Test Covering size : 54 <br>\n",
    "   Train Fidelity : 1 --- Test Fidelity : 0.981481 <br>\n",
    "   Train Accuracy : 0.990783 --- Test Accuracy : 1 <br>\n",
    "   Train Confidence : 0.984811 --- Test Confidence : 0.979816 <br>\n",
    "\n",
    "You can see that the rule no longer always agrees with the model, only in 98.15% of cases. However, the rule accuracy has increased with the test. That means that the rule is very good in reality, with 100% of correct classification."
   ]
  },
  {
   "cell_type": "markdown",
   "id": "c457745a-6030-486e-95d4-33040fe430ea",
   "metadata": {},
   "source": [
    "We can get a ROC curve obtained with the test set. Here are the parameters of computeRocCurve which is located in the trainings package :"
   ]
  },
  {
   "cell_type": "code",
   "execution_count": 137,
   "id": "338b8a62-832e-45f7-8540-9ec4a7928447",
   "metadata": {},
   "outputs": [
    {
     "name": "stdout",
     "output_type": "stream",
     "text": [
      "Usage: \n",
      "--test_class_file <str> --test_pred_file <str> --nb_classes <int [1,inf[> --positive_class_index <int [0,nb_classes-1]> [-h, --help] [--json_config_file <str>] [--root_folder <str>] [--stats_file <str>] [--show_params <bool>] [--estimator <str>] [--output_roc <str>]\n",
      "\n",
      "This is a parser for computeRocCurve\n",
      "\n",
      "\n",
      "Parameters:\n",
      "\n",
      "  ---------------------------------------------------------------------\n",
      "\n",
      "  Warning! The files are localised with respect to root folder dimlpfidex.\n",
      "\n",
      "  The arguments can be specified in the command or in a json configuration file with --json_config_file your_config_file.json.\n",
      "\n",
      "  ----------------------------\n",
      "\n",
      "  Required parameters:\n",
      "\n",
      "  --test_class_file <str>                        Test class file\n",
      "  --test_pred_file <str>                         Test prediction file\n",
      "  --nb_classes <int [1,inf[>                     Number of classes in dataset\n",
      "  --positive_class_index <int [0,nb_classes-1]>  Index of positive class, index starts at 0\n",
      "\n",
      "  ----------------------------\n",
      "\n",
      "  Optional parameters:\n",
      "\n",
      "  -h --help                                      show this help message and exit\n",
      "  --json_config_file <str>                       JSON file to configure all parameters. If used, this must be the sole argument and must specify the\n",
      "                                                 file's relative path\n",
      "  --root_folder <str>                            Folder based on main folder dimlpfidex(default folder) containg all used files and where generated\n",
      "                                                 files will be saved. If a file name is specified with another option, his path will be configured\n",
      "                                                 with respect to this root folder> (default: \"\")\n",
      "  --stats_file <str>                             Output statistic file name with AUC score, can be the training stats file\n",
      "  --show_params <bool>                           Whether to show parameters (default: True)\n",
      "\n",
      "  ----------------------------\n",
      "\n",
      "  ROC parameters (optional):\n",
      "\n",
      "  --estimator <str>                              Name of estimator\n",
      "  --output_roc <str>                             Output ROC curve file name (default: roc_curve.png)\n",
      "\n",
      "  ----------------------------\n",
      "\n",
      "Execution example :\n",
      "\n",
      "computeRocCurve('--test_class_file dataclass2Test.txt --test_pred_file predTest.out --positive_class_index 1 --output_roc roc_curve.png --stats_file stats.txt --root_folder dimlp/datafiles --nb_classes 2')\n",
      "\n",
      "---------------------------------------------------------------------\n",
      "\n"
     ]
    }
   ],
   "source": [
    "res = computeRocCurve(\"--help\")"
   ]
  },
  {
   "cell_type": "markdown",
   "id": "71ec3ff5-a6db-4478-9d36-87f2ddbc3247",
   "metadata": {},
   "source": [
    "We execute computeRocCurve :"
   ]
  },
  {
   "cell_type": "code",
   "execution_count": 138,
   "id": "3c817149-bae3-4ce2-8bc8-074a27747705",
   "metadata": {},
   "outputs": [],
   "source": [
    "#res = computeRocCurve('--test_class_file testClass.txt --test_pred_file predTest.out --positive_class_index 0 --output_roc outRoc.png --stats_file stats.txt --root_folder data/BCWDataset --nb_classes 2 --show_params false')\n",
    "res = computeRocCurve(\"--json_config_file data/BCWTemplates/config_roc.json\")"
   ]
  },
  {
   "cell_type": "markdown",
   "id": "6a27b096-fbfd-4c67-a303-58a5b404169b",
   "metadata": {},
   "source": [
    "The AUC score is added to the stats file and the ROC curve is saved in the outRoc.png file. We get an AUC of about 99%. <br>\n",
    "We can visualize the AUC curve :"
   ]
  },
  {
   "cell_type": "code",
   "execution_count": 139,
   "id": "fd579681-492d-4900-84ae-69aeef690a12",
   "metadata": {},
   "outputs": [
    {
     "data": {
      "image/png": "[encoded data removed]",
      "text/plain": [
       "<IPython.core.display.Image object>"
      ]
     },
     "metadata": {},
     "output_type": "display_data"
    }
   ],
   "source": [
    "display(Image(filename=\"data/BCWDataset/outRoc.png\"))"
   ]
  },
  {
   "cell_type": "markdown",
   "id": "6709efc3-5ac9-41d8-927e-1c5fedddef82",
   "metadata": {},
   "source": [
    "Finally, it's possible to launch fidexGlo on a test set. It will, for each test sample, search in the global ruleset for all the rules that verify the sample's properties and match the decision of the model. If no rule verifies the properties, it calls Fidex on the test sample. In the other case, it gives all the correct and wrong activated rules.<br>\n",
    "\n",
    "FidexGlo is located in the fidex module. Here are the possible parameters:"
   ]
  },
  {
   "cell_type": "code",
   "execution_count": 140,
   "id": "24ccff77-b9a8-4c97-b3f7-2f8756935bd0",
   "metadata": {},
   "outputs": [
    {
     "name": "stdout",
     "output_type": "stream",
     "text": [
      "\n",
      "---------------------------------------------------------------------\n",
      "\n",
      "Warning! The files are localised with respect to root folder dimlpfidex.\n",
      "The arguments can be specified in the command or in a json configuration file with --json_config_file your_config_file.json.\n",
      "\n",
      "----------------------------\n",
      "\n",
      "Required parameters:\n",
      "\n",
      "--test_data_file <str>        Test sample(s) data file with data and prediction(if no --test_pred_file), classes may been added here if launching with fidex(--with_fidex)\n",
      "--global_rules_file <str>     Ruleset input file\n",
      "--nb_attributes <int [1,inf[> Number of attributes in dataset\n",
      "--nb_classes <int [2,inf[>    Number of classes in dataset\n",
      "\n",
      "----------------------------\n",
      "\n",
      "Optional parameters: \n",
      "\n",
      "--json_config_file <str>      JSON file to configure all parameters. If used, this must be the sole argument and must specify the file's relative path\n",
      "--root_folder <str>           Folder based on main folder dimlpfidex(default folder) containg all used files and where generated files will be saved. If a file name is specified with another option, his path will be configured with respect to this root folder\n",
      "--attributes_file <str>       File of attributes> Mandatory if rules file contains attribute names, if not, do not add it\n",
      "--test_pred_file <str>        Test prediction file> if given, --test_data_file needs to have only test datas\n",
      "--explanation_file <str>      Explanation(s) output file name\n",
      "--console_file <str>          File with console logs redirection\n",
      "--with_fidex <bool>           Whether to use Fidex if no rule is found in global rules (default: False)\n",
      "--with_minimal_version <bool> Whether to use minimal version, which only gets correct activated rules and if with_fidex, launches Fidex when no such rule is found (default: False)\n",
      "\n",
      "----------------------------\n",
      "\n",
      "If using fidex :\n",
      "\n",
      "Required :\n",
      "\n",
      "--train_data_file <str>       Train data file\n",
      "--train_pred_file <str>       Train prediction file\n",
      "--train_class_file <str>      Train true class file, not mandatory if classes are specified in train data file\n",
      "--weights_file <str>          Weights file (not mandatory if a rules file is given with --rules_file)\n",
      "--rules_file <str>            Rules file to be converted to hyperlocus (not mandatory if a weights file is given with --weights_file)\n",
      "\n",
      "Optional :\n",
      "\n",
      "--test_class_file <str>       Test true class file, classes can be specified in test data file\n",
      "--max_iterations <int [1,inf[>\n",
      "                              Max iteration number, also the max possible number of attributs in a rule, should be 25 if working with images (default: 10)\n",
      "--min_covering <int [1,inf[>  Minimum covering number (default: 2)\n",
      "--covering_strategy <bool>    Whether to use this strategy : if no rule is found with min_covering, find best rule with best covering using dichotomic search. Decreases min_fidelity if needed (default: True)\n",
      "--max_failed_attempts <int [0,inf[>\n",
      "                              Maximum number of failed attempts to find Fidex rule when covering is 1 and covering strategy is used (default: 30)\n",
      "--min_fidelity <float [0,1]>  Minimal rule fidelity accepted when generating a rule (default: 1.0)\n",
      "--lowest_min_fidelity <float [0,1]>\n",
      "                              Minimal min_fidelity to which we agree to go down during covering_strategy (default: 0.75)\n",
      "--nb_fidex_rules <int [1,inf[>\n",
      "                              Number of Fidex rules to compute per sample when launching Fidex (default: 1)\n",
      "--dropout_dim <float [0,1]>   Dimension dropout parameter (default: 0.0)\n",
      "--dropout_hyp <float [0,1]>   Hyperplan dropout parameter (default: 0.0)\n",
      "--nb_quant_levels <int [3,inf[>\n",
      "                              Number of stairs in staircase activation function (default: 50)\n",
      "--normalization_file <str>    File containing the mean and std of some attributes. Used to denormalize the rules if specified\n",
      "--mus <list<float ]inf,inf[>> Mean or median of each attribute index to denormalize in the rules\n",
      "--sigmas <list<float ]inf,inf[>>\n",
      "                              Standard deviation of each attribute index to denormalize in the rules\n",
      "--normalization_indices <list<int [0,nb_attributes-1]>>\n",
      "                              Attribute indices to denormalize in the rules, only used when no normalization_file is given, index starts at 0 (default: [0,...,nb_attributes-1])\n",
      "--seed <int [0,inf[>          Seed, 0=random (default: 0)\n",
      "\n",
      "----------------------------\n",
      "\n",
      "Execution example :\n",
      "\n",
      "fidex.fidexGlo(\"--test_data_file datanormTest.txt --test_pred_file predTest.out --global_rules_file globalRules.rls --nb_attributes 16 --nb_classes 2 --explanation_file explanation.txt --root_folder dimlp/datafiles --with_fidex true --train_data_file datanormTrain.txt --train_pred_file predTrain.out --train_class_file dataclass2Train.txt --test_class_file dataclass2Test.txt --weights_file weights.wts\")\n",
      "\n",
      "---------------------------------------------------------------------\n",
      "\n"
     ]
    }
   ],
   "source": [
    "res = fidexGlo(\"--help\")"
   ]
  },
  {
   "cell_type": "markdown",
   "id": "c845e1fe-9226-4aa7-874d-eb582695afda",
   "metadata": {},
   "source": [
    "As we want to use Fidex on test sample not covered by the global ruleset, we need to specify the Fidex parameters. We don't forget to add the normalization file and launch it with :"
   ]
  },
  {
   "cell_type": "code",
   "execution_count": 141,
   "id": "3ec3cd7f-502b-49c4-b1ce-28f219b8d5be",
   "metadata": {},
   "outputs": [
    {
     "name": "stdout",
     "output_type": "stream",
     "text": [
      "Explanations generated\n"
     ]
    }
   ],
   "source": [
    "#res = fidex.fidexGlo(\"--test_data_file testData.txt --test_pred_file predTest.out --global_rules_file globalRules.rls --nb_attributes 30 --nb_classes 2 --attributes_file attributes.txt --explanation_file explanations.txt --console_file fidexGloResults.txt --root_folder data/BCWDataset --with_fidex true --train_data_file trainData.txt --train_pred_file predTrain.out --train_class_file trainClass.txt --test_class_file testClass.txt --weights_file Weights/weights.wts --normalization_file normalization_stats.txt\")\n",
    "res = fidexGlo(\"--json_config_file data/BCWTemplates/config_fidexGlo.json\")\n",
    "\n",
    "if res == 0:\n",
    "    print(\"Explanations generated\") "
   ]
  },
  {
   "cell_type": "markdown",
   "id": "4ccf58f4-b70b-4586-ad3c-345d9a5d0823",
   "metadata": {},
   "source": [
    "The explanations for each test sample can then be found in the file explanations.txt. We do not find a global rule for around 2.6% of the samples, for which we calculate a local rule using Fidex."
   ]
  },
  {
   "cell_type": "markdown",
   "id": "db7f3208-c538-40eb-8c76-31e75d687198",
   "metadata": {},
   "source": [
    "# Conclusion\n",
    "\n",
    "Throughout this notebook, we've learned how to use DimlpBT to train a dataset and get some explaining rules, and we got into the different Fidex algorithms to get some local and global explanations, and some statistics on the model's decisions. We used the example of the breast cancer dataset from Wisconsin and we saw that the algorithms perform very well. It gives some good explanations of the model's decision and does it very fast, especially if a fidexGlo ruleset has been computed beforehand. You can try with any tabular dataset you want, you just have to remember to transform the data in a good format. <be>\n",
    "\n",
    "We didn't speak about every single parameter, you can try to change every hyperparameter you want to see how it goes. An interesting parameter that we didn't consider is the parameter for decision threshold (--decision_threshold) in Fidex algorithms. It allows us to change prediction with respect to a specific threshold on the positive class. If the model gives a score prediction, for the positive class, greater than this threshold, the model prediction is considered to be the positive class, even if another class obtains a higher score. If the recall is not good enough, it's possible to improve it this way. Another parameter is the seed. It allows you to remove the randomness of the algorithms and get the same result in each execution for the same parameters and data.<br>\n",
    "\n",
    "We considered only a simple tabular dataset. It's also possible to use it for an image classification problem. To see how we can train a dataset with convolutions, we recommend exploring the Mnist notebook for a hands-on experience **Insérer lien notebook Mnist**. There are also other training methods, like an MLP or decision trees. The Keel Australian notebook goes through these and shows what to do when we have categorical attributes **Insérer Keel Australian notebook**."
   ]
  },
  {
   "cell_type": "markdown",
   "id": "605dcb45-4862-4268-bef2-068cf96de3d9",
   "metadata": {},
   "source": [
    "# Références\n",
    "\n",
    "Article DimlpBT de Guido\n",
    "Article Fidex de Guido (à venir)"
   ]
  }
 ],
 "metadata": {
  "kernelspec": {
   "display_name": "Python 3 (ipykernel)",
   "language": "python",
   "name": "python3"
  },
  "language_info": {
   "codemirror_mode": {
    "name": "ipython",
    "version": 3
   },
   "file_extension": ".py",
   "mimetype": "text/x-python",
   "name": "python",
   "nbconvert_exporter": "python",
   "pygments_lexer": "ipython3",
   "version": "3.10.12"
  }
 },
 "nbformat": 4,
 "nbformat_minor": 5
}
