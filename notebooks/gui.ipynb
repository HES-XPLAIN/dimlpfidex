{
 "cells": [
  {
   "cell_type": "markdown",
   "id": "607d03bf-fbdd-4b67-a532-e1ba67b37e04",
   "metadata": {},
   "source": [
    "# Learn how to use the Dimlpfidex Graphical User Interface (GUI)\n",
    "\n",
    "**Introduction:**\n",
    "\n",
    "Welcome to our notebook introducing the Dimlpfidex GUI, a user-friendly interface designed to streamline the generation of JSON configuration files for IA explainability algorithms.\n",
    "\n",
    "In this notebook, we'll delve into the challenges inherent in manually crafting JSON files and the complexities of composing lengthy command lines. Through practical demonstrations, we'll showcase how the Dimlpfidex GUI offers a solution to these issues, providing users with an intuitive platform to effortlessly configure our algorithms.\n",
    "\n",
    "\n",
    "\n",
    "**Objectives:**\n",
    "\n",
    "    1. Understand the challenges of working with JSON configuration files and the drawbacks of writing long command lines.\n",
    "    3. Introduce the Dimlpfidex GUI and its main architecture.\n",
    "    4. Diving into forms and the different fields.\n",
    "    5. Diving into a use case and run one of our algorithms with a generated JSON configuration file.\n",
    "\n",
    "\n",
    "**Outline:**\n",
    "\n",
    "    1. Understanding JavaScript Object Notation (JSON)\n",
    "    2. Understanding the advantages of configuration files by simplifying lenghty command lines\n",
    "    3. Introduction to the Dimlpfidex GUI and its main features\n",
    "    4. Exploring Forms specific features\n",
    "    5. Generating JSON Configuration Files with the Dimlpfidex GUI\n",
    "    6. Testing running algorithms using a generated configuration file\n",
    "\n",
    "Through this notebook, we aim to illustrate how the Dimlpfidex GUI streamlines the process of generating JSON configuration files, making IA explainability more accessible and efficient for users of all skill levels."
   ]
  },
  {
   "cell_type": "code",
   "execution_count": null,
   "id": "49621414-0bc9-4251-8b22-37534bce3e9f",
   "metadata": {},
   "outputs": [],
   "source": []
  },
  {
   "cell_type": "code",
   "execution_count": null,
   "id": "0dfbfcf8-58af-4bc8-8390-46d6afedeec8",
   "metadata": {},
   "outputs": [],
   "source": []
  }
 ],
 "metadata": {
  "kernelspec": {
   "display_name": "Python 3 (ipykernel)",
   "language": "python",
   "name": "python3"
  },
  "language_info": {
   "codemirror_mode": {
    "name": "ipython",
    "version": 3
   },
   "file_extension": ".py",
   "mimetype": "text/x-python",
   "name": "python",
   "nbconvert_exporter": "python",
   "pygments_lexer": "ipython3",
   "version": "3.10.12"
  }
 },
 "nbformat": 4,
 "nbformat_minor": 5
}
