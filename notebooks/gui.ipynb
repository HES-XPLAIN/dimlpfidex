{
 "cells": [
  {
   "cell_type": "markdown",
   "id": "607d03bf-fbdd-4b67-a532-e1ba67b37e04",
   "metadata": {},
   "source": [
    "# Learn how to use the Dimlpfidex Graphical User Interface (GUI)\n",
    "\n",
    "**Introduction:**\n",
    "\n",
    "Welcome to our notebook introducing the Dimlpfidex GUI, a user-friendly interface designed to streamline the generation of JSON configuration files for IA explainability algorithms.\n",
    "\n",
    "In this notebook, we'll delve into the challenges inherent in manually crafting JSON files and the complexities of composing lengthy command lines. Through practical demonstrations, we'll showcase how the Dimlpfidex GUI offers a solution to these issues, providing users with an intuitive platform to effortlessly configure our algorithms.\n",
    "\n",
    "\n",
    "\n",
    "**Objectives:**\n",
    "\n",
    "    1. Understand the challenges of working with JSON configuration files and the drawbacks of writing long command lines.\n",
    "    3. Introduce the Dimlpfidex GUI and its main architecture.\n",
    "    4. Diving into forms and the different fields.\n",
    "    5. Diving into a use case and run one of our algorithms with a generated JSON configuration file.\n",
    "\n",
    "\n",
    "**Outline:**\n",
    "\n",
    "    1. Understanding JavaScript Object Notation (JSON).\n",
    "    2. Understanding the advantages of configuration files.\n",
    "    3. Introduction to the Dimlpfidex GUI and its main features.\n",
    "    4. Exploring Forms specific features.\n",
    "    5. Installing Dimlpfidex GUI in your machine.\n",
    "    6. Generating JSON Configuration Files with the Dimlpfidex GUI.\n",
    "    7. Testing running algorithms using a generated configuration file.\n",
    "\n",
    "Through this notebook, we aim to illustrate how the Dimlpfidex GUI eases the process of generating JSON configuration files, making our algorithms more accessible and efficient for users of all skill levels."
   ]
  },
  {
   "cell_type": "markdown",
   "id": "49621414-0bc9-4251-8b22-37534bce3e9f",
   "metadata": {},
   "source": [
    "# Understanding JavaScript Object Notation (JSON).\n",
    "\n",
    "This section provides a brief introduction to JSON, known as JavaScript Object Notation. JSON is a lightweight data format commonly used for transmitting data between a server and a web application. It is both human-readable and machine-readable, making it easy for developers to work with. JSON consists of key-value pairs, arrays, and nested objects. Here's a simple example:"
   ]
  },
  {
   "cell_type": "code",
   "execution_count": null,
   "id": "1ba6c679",
   "metadata": {
    "vscode": {
     "languageId": "json"
    }
   },
   "outputs": [],
   "source": [
    "\n",
    "{\n",
    "    \"name\": \"John Doe\",\n",
    "    \"age\": 30,\n",
    "    \"city\": \"New York\",\n",
    "    \"email\": \"john@example.com\",\n",
    "    \"pets\": [\n",
    "        {\n",
    "          \"type\": \"dog\",\n",
    "          \"name\": \"Buddy\"\n",
    "        },\n",
    "        {\n",
    "          \"type\": \"cat\",\n",
    "          \"name\": \"Whiskers\"\n",
    "        }\n",
    "      ]\n",
    "  }  "
   ]
  },
  {
   "cell_type": "markdown",
   "id": "6d541e72",
   "metadata": {},
   "source": [
    "In this example, we have a JSON object representing information about a person named John Doe. The object contains key-value pairs such as \"name\", \"age\", \"city\", and \"email\", providing details about the person's identity. Additionally, there is an array called \"pets\", which contains objects representing details about each pet owned by John Doe. Each pet object includes properties like \"type\" (specifying the type of pet) and \"name\" (the name of the pet). This example demonstrates how JSON can organize structured data, making it easy to manage and exchange information between different systems.\n",
    "\n",
    "As you might expect, our JSON configuration files aren't about individuals personal details, but rather a means to adjust parameters influencing data provision and customize the behavior of our algorithms. Let's examine a sample configuration file for one of our algorithms, FidexGloRules:"
   ]
  },
  {
   "cell_type": "code",
   "execution_count": null,
   "id": "2ae806fd",
   "metadata": {
    "vscode": {
     "languageId": "json"
    }
   },
   "outputs": [],
   "source": [
    "{\n",
    "    \"root_folder\": \"tests/dataset/data\",\n",
    "    \"train_data_file\": \"train.txt\",\n",
    "    \"train_pred_file\": \"out/dimlp_train.out\",\n",
    "    \"train_class_file\": \"train_true_classes.txt\",\n",
    "    \"global_rules_outfile\": \"out/fidexglorules_1_rules.json\",\n",
    "    \"attributes_file\": \"attributes.txt\",\n",
    "    \"weights_file\": \"out/weights.wts\",\n",
    "    \"console_file\": \"out/fidexGloRules_1_console.out\",\n",
    "    \"nb_attributes\": 31,\n",
    "    \"nb_classes\": 7,\n",
    "    \"nb_quant_levels\": 50,\n",
    "    \"heuristic\": 1,\n",
    "    \"max_iterations\": 10,\n",
    "    \"min_covering\": 2,\n",
    "    \"max_failed_attempts\": 30,\n",
    "    \"nb_threads\": 4,\n",
    "    \"positive_class_index\": 1,\n",
    "    \"seed\": 0,\n",
    "    \"decision_threshold\": -1.0,\n",
    "    \"dropout_hyp\": 0.5,\n",
    "    \"dropout_dim\": 0.5,\n",
    "    \"min_fidelity\": 1.0,\n",
    "    \"normalization_indices\": [0,1,2,5,9,7],\n",
    "    \"mus\": [0.6,0.21,2.1,5.00002,2.3,7.1],\n",
    "    \"sigmas\": [0,0,2,5,2,7]\n",
    "}"
   ]
  },
  {
   "cell_type": "markdown",
   "id": "d8a2904c",
   "metadata": {},
   "source": [
    "This JSON configuration file, that you can find inside [our repository](https://github.com/HES-XPLAIN/dimlpfidex/blob/main/tests/templates/config_fidexGloRules_1.json), is a file that is used to test the sanity of our algorithm named FidexGloRules. As you can see, there's a lot of things going on here. In this case, most of it are numeric values to tweak the behaviour of the algorithm itself and the other part are file paths that contain necessary data to feed the algorithm and thereby make it work for us. In this section, we'll not dive into parameters details, this will be detailed inside our dedicated documentation: **LINK TO DOC**.\n",
    "\n",
    "\n",
    "Now that we've explored the purpose and content of the JSON configuration file for testing our FidexGloRules algorithm, let's move on to understand how configuration files offer distinct advantages by simplifying lengthy command lines."
   ]
  },
  {
   "cell_type": "markdown",
   "id": "457fb44c",
   "metadata": {},
   "source": [
    "# Understanding the advantages of configuration files.\n",
    "Before JSON configuration files where added as a feature, the only way to use one of our algorithms was to call it and specify all arguments along with it. This was a pain sometimes, espacially when you're dealing directly with program binaries. This is because, to use one of them, you have to open a command line interface and type the name of the program followed by a couple of arguments (could be 5, 10 or even 24 like the examples shown below). This could lead to command lines like this one:  "
   ]
  },
  {
   "cell_type": "raw",
   "id": "00671580",
   "metadata": {},
   "source": [
    "bin/fidexGloRules --train_data_file datanormTrain.txt --train_pred_file predTrain.out --train_class_file dataclass2Train.txt --weights_file weights.wts --nb_attributes 16 --nb_classes 2 --heuristic 1 --global_rules_outfile globalRules.rls --root_folder dimlp/datafiles"
   ]
  },
  {
   "cell_type": "markdown",
   "id": "bb88f0d7",
   "metadata": {},
   "source": [
    "As you can imagine, while this approach is functional, it's not particularly practical. For those familiar with using Command Line Interfaces (CLI), executing commands like this can be a huge pain, prone to spelling errors and often resulting in time-consuming mistakes. To illustrate, let's compare four ways of executing the fidexGloRules algorithm: two via CLI and two others using Python scripts. We'll start with command line examples:"
   ]
  },
  {
   "cell_type": "raw",
   "id": "170bfbd4",
   "metadata": {},
   "source": [
    "# without configuration file (feel free to slide to the right)\n",
    "bin/fidexGloRules --root_folder tests/dataset/data --train_data_file train.txt --train_pred_file out/dimlp_train.out --train_class_file train_true_classes.txt --global_rules_outfile out/fidexglorules_1_rules.json --attributes_file attributes.txt --weights_file out/weights.wts --nb_attributes 31 --nb_classes 7 --nb_quant_levels 50 --heuristic 1 --max_iterations 10 --min_covering 2 --max_failed_attempts 30 --nb_threads 4 --positive_class_index 1 --seed 0 --decision_threshold -1.0 --dropout_hyp 0.5 --dropout_dim 0.5 --min_fidelity 1.0 --normalization_indices \"[0,1,2,5,9,7]\" --mus \"[0.6,0.21,2.1,5.00002,2.3,7.1]\" --sigmas \"[0,0,2,5,2,7]\"\n",
    "\n",
    "# with configuration file (no need to slide)\n",
    "bin/fidexGloRules --json_config_file tests/templates/config_fidexGloRules_1.json"
   ]
  },
  {
   "cell_type": "markdown",
   "id": "49bba0fc",
   "metadata": {},
   "source": [
    "Similar procedures apply when using our Python wrappers:"
   ]
  },
  {
   "cell_type": "code",
   "execution_count": null,
   "id": "21e5ef95",
   "metadata": {},
   "outputs": [],
   "source": [
    "from dimlpfidex import fidex\n",
    "\n",
    "# without configuration file\n",
    "fidex.fidexGloRules(\"--root_folder tests/dataset/data --train_data_file train.txt --train_pred_file out/dimlp_train.out --train_class_file train_true_classes.txt --global_rules_outfile out/fidexglorules_1_rules.json --attributes_file attributes.txt --weights_file out/weights.wts --nb_attributes 31 --nb_classes 7 --nb_quant_levels 50 --heuristic 1 --max_iterations 10 --min_covering 2 --max_failed_attempts 30 --nb_threads 4 --positive_class_index 1 --seed 0 --decision_threshold -1.0 --dropout_hyp 0.5 --dropout_dim 0.5 --min_fidelity 1.0 --normalization_indices [0,1,2,5,9,7] --mus [0.6,0.21,2.1,5.00002,2.3,7.1] --sigmas [0,0,2,5,2,7]\")\n",
    "\n",
    "# with configuration file\n",
    "fidex.fidexGloRules(\"--json_config_file tests/templates/config_fidexGloRules_1.json\")"
   ]
  },
  {
   "cell_type": "markdown",
   "id": "1b2eda43",
   "metadata": {},
   "source": [
    "\n",
    "In summary, transitioning from manual command-line inputs to the use of JSON configuration files significantly improves the user experience, making it more straightforward and error-resistant. Now we've seen the why configuration files can be a game changer, let's dive into the Dimlpfidex GUI, the tool designed to take this ease of use even further. With its intuitive interface and ability to generate JSON files effortlessly, it enhances the way users interact with our algorithms."
   ]
  },
  {
   "cell_type": "markdown",
   "id": "aabc1bdd",
   "metadata": {},
   "source": [
    "# Introduction to the Dimlpfidex GUI and its main features.\n",
    "The Dimlpfidex Graphical User Interface (GUI) is your go-to tool for effortlessly generating JSON configuration files, regardless of whether you're on Windows, Linux, or using the web application. Let's take a closer look at its main features and how it simplifies the configuration process.\n",
    "\n",
    "<p align=\"center\"><img src=\"img/gui_mainpage.png\" width=\"60%\" /></p>\n",
    "<p align=\"center\"><i>Welcome page</i></p>\n",
    "\n",
    "The welcome page greets you with a simple message. At the top, a navigation bar organizes algorithms into main categories. Each category contains various forms specific to individual algorithms, accessible via a sub-navigation bar below that appears when accessing a category.\n",
    "\n",
    "<p align=\"center\"><img src=\"imgs/gui_dimlpsection.png\" /></p>\n",
    "<p align=\"center\"><i>DIMLP algorithms forms</i></p>\n",
    "\n",
    "<p align=\"center\"><img src=\"imgs/gui_fidexsection.png\" /></p>\n",
    "<p align=\"center\"><i>FIDEX algorithms forms</i></p>\n",
    "\n",
    "<p align=\"center\"><img src=\"imgs/gui_pythonsection.png\" /></p>\n",
    "<p align=\"center\"><i>Python wrappers forms</i></p>\n",
    "\n",
    "A notable feature of the GUI is the glossary, which provides detailed information about each field within the forms. Users can access descriptions, data types, and properties such as default values, aiding in understanding and configuring parameters effectively.\n",
    "\n",
    "<p align=\"center\"><img src=\"imgs/gui_glossarysection_1.png\" /></p>\n",
    "<p align=\"center\"><i>Main view of the glossary</i></p>\n",
    "\n",
    "<p align=\"center\"><img src=\"imgs/gui_glossarysection_2.png\" /></p>\n",
    "<p align=\"center\"><i>Detailed view of the DimlpCls form glossary</i></p>\n",
    "\n",
    "Now that we've gained a comprehensive understanding of the Dimlpfidex GUI and its main features, let's go deeper into the specific features of its forms. The next chapter will explore how forms within the GUI eases the configuration process for different algorithms."
   ]
  },
  {
   "cell_type": "markdown",
   "id": "c80216d2",
   "metadata": {},
   "source": [
    "# Exploring Forms specific features.\n",
    "Let's take a closer look at the specific features of the forms within the GUI. Each form is designed with multiple fields to input the necessary information for generating a JSON configuration file. These fields are tailored to the type of data expected, known as the field's datatype.\n",
    "\n",
    "For instance, we have numeric fields, such as integers or double precision floating points, which may come with minimum and maximum value constraints to ensure data integrity:\n",
    "\n",
    "<p align=\"center\"><img src=\"imgs/gui_fieldnumeric.png\" /></p>\n",
    "<p align=\"center\"><i>Numeric field</i></p>\n",
    "\n",
    "Another example is the file path field, which allows users (excluding the web version due to browser limitations) to select a file and automatically input its absolute path.\n",
    "\n",
    "<p align=\"center\"><img src=\"imgs/gui_fieldfilepath.png\" /></p>\n",
    "<p align=\"center\"><i>File path field</i></p>\n",
    "\n",
    "Let's break down the components of a field:\n",
    "\n",
    "<p align=\"center\"><img src=\"imgs/gui_fieldanatomy.png\" /></p>\n",
    "<p align=\"center\"><i>Field anatomy</i></p>\n",
    "Here's what each index represents:\n",
    "\n",
    "1. **Field name**: Indicates the name or label of the field.\n",
    "2. **File explorer** button: Allows users to browse and select a file (available for path-related fields, excluding the web application).\n",
    "3. **Default button**: Clicking on this button, if colored, automatically adds a default value to the field.\n",
    "4. **Information icon**: When hovered over with the mouse, provides a description of the field.\n",
    "5. **Required icon**: If colored, indicates that the field must be filled out and cannot be left empty.\n",
    "\n",
    "Here's a breakdown of each field type: *(last updated 2024-04-16)*\n",
    "\n",
    "- **integer**: Accepts integer values within a specified range.\n",
    "- **Double precision**: Accepts double precision floating point values.\n",
    "- **String**: Accepts text strings.\n",
    "- **Restricted choice string**: Accepts predefined choices from a list.\n",
    "- **File path**: Allows selection of a file and inputs its absolute path.\n",
    "- **Boolean**: Accepts true/false values in shape of checkboxes.\n",
    "- **Directory path**: Allows selection of a directory and inputs its absolute path.\n",
    "- **Dictionary**: Accepts key-value pairs.\n",
    "- **List of string**: Accepts a list of text strings.\n",
    "- **List of integer**: Accepts a list of integer values.\n",
    "- **List of file path**: Accepts a list of file paths.\n",
    "- **List of double precision**: Accepts a list of double precision floating point values.\n",
    "\n",
    "These field types ensure flexibility and accuracy in inputting data, catering to various requirements across different algorithms and configurations."
   ]
  },
  {
   "cell_type": "markdown",
   "id": "9c05b11d",
   "metadata": {},
   "source": [
    "# Installing Dimlpfidex GUI in your machine.\n",
    "\n",
    "Let's walk you through installing the Dimlpfidex GUI on your machine, whether you're using Windows, Linux, or the web application.\n",
    "\n",
    "### 1. Windows\n",
    "To install on Windows, download the latest release from our [GitHub repository](https://github.com/HES-XPLAIN/dimlpfidex/releases). Once downloaded, unzip the archive and run the `dimlpfidex_gui.exe` file. Refer to the `readme.md` file for further instructions. If successful, you'll see the Dimlpfidex GUI main menu on your screen.\n",
    "\n",
    "### 2. Linux\n",
    "For Linux installation, download the latest release from our [GitHub repository](https://github.com/HES-XPLAIN/dimlpfidex/releases). Unzip the archive and run the `dimlpfidex_gui` file. Check the `readme.md` file for additional guidance. If the installation is successful, you'll find the Dimlpfidex GUI main menu accessible.\n",
    "\n",
    "### 3. Web Application\n",
    "Please note that the web application may not offer all features available in the desktop versions due to technical limitations.\n",
    "\n",
    "To use the web application, download the latest release from our [GitHub repository](https://github.com/HES-XPLAIN/dimlpfidex/releases). Unzip the archive and run the `dimlpfidex_gui` file. Consult the `readme.md` file for detailed instructions. If installation is successful, you'll be greeted with the Dimlpfidex GUI main menu.\n",
    "\n",
    "Once installed, you're ready to move on to the next chapter and try your hand at generating a configuration file!"
   ]
  },
  {
   "cell_type": "markdown",
   "id": "b93902db",
   "metadata": {},
   "source": [
    "# Generating JSON Configuration Files with the Dimlpfidex GUI.\n",
    "In this chapter, we'll try to create a configuration file for the Fidex algorithm. To archieve this, we'll need some files. Let's have a quick view of them:\n",
    "\n",
    "**TODO** add description to these files\n",
    "- **train.txt**:  \n",
    "- **test.txt**: \n",
    "- **attributes.txt**: \n",
    "- **weights.wts**: \n",
    "- **train_true_classes.txt**: \n",
    "- **test_true_classes.txt**: \n",
    "- **dimlp_train.out**:\n",
    "- **dimlp_test.out**:\n",
    "\n",
    "Our goal is to create a configuration file that refers to all these files in order to execute the Fidex algorithm with them.\n",
    "\n",
    "So without further ado, lets begin. Lets go to the Fidex form, to do so, lets click into the Fidex section in the **main navigation bar** and click into the Fidex section in the **sub-navigation bar**.\n",
    "\n",
    "You should see a form with numerous inputs. Lets begin filling the `Root folder` input. This is the field that tells the algorithm that all files used are present or will be present within it. In our case, lets select the path where all our files are. You can write it yourself or use the file explorer feature (except for the web version). Our directory is at `data/GUIDataset/` (linux) or `data\\GUIDataset\\` (windows). As you can see, the icon that normally says whether or not a field is required is not active. This mean that, actually, you can leave the `Root folder` input if you wish. That being said, you'll have to explicit the complete paths for all the files that you'll use in the Fidex algorithm execution. This is why we usually recommend to specify the `Root folder`, unless there's files that you wish to use that are in other directories. If this is true, you should not use `Root folder` because it will prefix your paths and likely corrupt paths to non existing ones.\n",
    "\n",
    "The next input is named `Train data file` and asks for the path/name of the file containing the data portion relative to the dedicated part of the dataset for training. You can fill it with its file name `train.txt` or, if you didn't specified `Root folder`, its path that should look like `path/to/notebook/data/train.txt`. \n",
    "\n",
    "Please note that, when you specify a `Root folder`, you souldn't use the file explorer feature because it will add the **absolute path** of the file requested. If `Root folder` is specified, only the file name should be specified.\n",
    "\n",
    "Lets continue with `Train prediction file`, which asks for the path/name of the file containing data relative to the predictions made with the training portion of the dataset. As for the previous input. You can fill it with `dimlp_train.out` or its absolute path that should look like `path/to/notebook/data/dimlp_train.out`. As you can see, this field is marked as required, because there's a red icon at its right.\n",
    "\n",
    "The next input is named `Train true classes file` and asks for the path/name of the file containing data relative to the class output that is considered as the true one. You can fill it with `train_true_classes.txt` or its absolute path.\n",
    "\n",
    "The next input named `Test data file` is aproximately the same as the `Train data file` the only difference being the content of it that is the test portion of the dataset. You can fill it with `test.txt` or its absolute path.\n",
    "\n",
    "The field named `Weights file` asks for a file name/path that contains pré-computed weights from a model, in this case, we use weights from the `dimlpTrn` algorithm. You can fill it with `weights.wts` or its absolute path.\n",
    "\n",
    "`Rules file` input asks for name/path of file that contains pre-computed rules to be used by the algorithm. In this example, we're going to leave it blank as its not required field.\n",
    "\n",
    "`Rule output file` input asks for a file name/path that **will be generated** by the algorithm during its execution, containing rules. You can fill it with `fidex_rules.txt` if you want an output in text format or `fidex_rules.json` if you want it in JSON format. Both of these options are valid if you use a absolute path along with those names.\n",
    "\n",
    "`Number of attributes in dataset` designates the number of columns that is considered as an attribute. Our dataset contains **38 columns**, **31 of them are attributes** and **7 of them are classes** so you must specify **31**. \n",
    "\n",
    "`Number of classes in dataset` designates the number of columns that is considered as a class. Our dataset contains **38 columns**, **31 of them are attributes** and **7 of them are classes** so you must specify **7**. \n",
    "\n",
    "\n",
    "\n"
   ]
  },
  {
   "cell_type": "markdown",
   "id": "44c3882a",
   "metadata": {},
   "source": [
    "# Testing running algorithms using a generated configuration file.\n",
    "\n",
    "If you followed all instructions in the precedent chapter, you should now be in posession of a JSON configuration file ready to be used by the Fidex algorithm. To prove if its working, lets try to run the algorithm with it like so (replace the path with the one that fits your configuration file):"
   ]
  },
  {
   "cell_type": "code",
   "execution_count": null,
   "id": "dca14f9c",
   "metadata": {
    "vscode": {
     "languageId": "shellscript"
    }
   },
   "outputs": [],
   "source": [
    "bin/Fidex --json_config_file path/to/your/config_file.json"
   ]
  },
  {
   "cell_type": "markdown",
   "id": "4f5d4aca",
   "metadata": {},
   "source": [
    "You can also try with "
   ]
  },
  {
   "cell_type": "markdown",
   "id": "954ec0aa",
   "metadata": {},
   "source": []
  }
 ],
 "metadata": {
  "kernelspec": {
   "display_name": "Python 3 (ipykernel)",
   "language": "python",
   "name": "python3"
  },
  "language_info": {
   "codemirror_mode": {
    "name": "ipython",
    "version": 3
   },
   "file_extension": ".py",
   "mimetype": "text/x-python",
   "name": "python",
   "nbconvert_exporter": "python",
   "pygments_lexer": "ipython3",
   "version": "3.10.12"
  }
 },
 "nbformat": 4,
 "nbformat_minor": 5
}
