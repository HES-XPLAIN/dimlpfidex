{
 "cells": [
  {
   "cell_type": "markdown",
   "id": "607d03bf-fbdd-4b67-a532-e1ba67b37e04",
   "metadata": {},
   "source": [
    "# Learn how to use the Dimlpfidex Graphical User Interface (GUI)\n",
    "\n",
    "**Introduction:**\n",
    "\n",
    "Welcome to our notebook introducing the Dimlpfidex GUI, a user-friendly interface designed to ease the generation of JSON configuration files used in our IA explainability algorithms.\n",
    "\n",
    "In this notebook, we'll explore the concept of JSON, explain why such technology is used and how to use it by generating configuration files. Through practical demonstrations, we'll observe how the Dimlpfidex GUI offers the possibility to generate JSON configuration files through an user friendly interface and, therefore, run our algorithms easily.\n",
    "\n",
    "\n",
    "\n",
    "**Objectives:**\n",
    "\n",
    "    1. Understand the challenges of working with JSON configuration files and the drawbacks of writing long command lines.\n",
    "    3. Introduce the Dimlpfidex GUI and its main architecture.\n",
    "    4. Diving into forms and the different fields.\n",
    "    5. Diving into a use case and run one of our algorithms with a generated JSON configuration file.\n",
    "\n",
    "\n",
    "**Outline:**\n",
    "\n",
    "    1. Understanding JavaScript Object Notation (JSON).\n",
    "    2. Understanding the advantages of configuration files.\n",
    "    3. Introduction to the Dimlpfidex GUI and its main features.\n",
    "    4. Exploring Forms specific features.\n",
    "    5. Installing Dimlpfidex GUI in your machine.\n",
    "    6. Generating JSON Configuration Files with the Dimlpfidex GUI.\n",
    "    7. Testing running algorithms using a generated configuration file.\n",
    "\n",
    "Let's start with a brief overview of the JavaScript Object Notation."
   ]
  },
  {
   "cell_type": "markdown",
   "id": "49621414-0bc9-4251-8b22-37534bce3e9f",
   "metadata": {},
   "source": [
    "# Understanding JavaScript Object Notation (JSON).\n",
    "\n",
    "This section provides a brief introduction to JSON, known as JavaScript Object Notation. JSON is a lightweight data format commonly used for transmitting data between a server and a web application. It is both human-readable and machine-readable, making it easy for developers to work with. JSON consists of key-value pairs, arrays, and nested objects. Here's a simple example:"
   ]
  },
  {
   "cell_type": "code",
   "execution_count": null,
   "id": "1ba6c679",
   "metadata": {
    "vscode": {
     "languageId": "json"
    }
   },
   "outputs": [],
   "source": [
    "\n",
    "{\n",
    "    \"name\": \"John Doe\",\n",
    "    \"age\": 30,\n",
    "    \"city\": \"New York\",\n",
    "    \"email\": \"john@example.com\",\n",
    "    \"pets\": [\n",
    "        {\n",
    "          \"type\": \"dog\",\n",
    "          \"name\": \"Buddy\"\n",
    "        },\n",
    "        {\n",
    "          \"type\": \"cat\",\n",
    "          \"name\": \"Whiskers\"\n",
    "        }\n",
    "      ]\n",
    "  }  "
   ]
  },
  {
   "cell_type": "markdown",
   "id": "6d541e72",
   "metadata": {},
   "source": [
    "In this example, we have a JSON object representing information about a person named `John Doe`. The object contains key-value pairs such as `name`, `age`, `city`, and `email`, providing details about the person's identity. Additionally, there is an array called `pets`, which contains objects representing details about each pet owned by `John Doe`. Each `pet` object includes properties like `type` (specifying the type of pet) and `name` (the name of the pet). This example demonstrates how JSON can organize structured data, making it easy to manage and exchange information between different systems.\n",
    "\n",
    "As you might expect, our JSON configuration files aren't about individuals personal details, but rather a means to adjust parameters influencing data provision and customize the behavior of our algorithms. Let's examine a sample configuration file for one of our algorithms, `FidexGloRules`:"
   ]
  },
  {
   "cell_type": "code",
   "execution_count": null,
   "id": "2ae806fd",
   "metadata": {
    "vscode": {
     "languageId": "json"
    }
   },
   "outputs": [],
   "source": [
    "{\n",
    "    \"root_folder\": \"tests/dataset/data\",\n",
    "    \"train_data_file\": \"train.txt\",\n",
    "    \"train_pred_file\": \"out/dimlp_train.out\",\n",
    "    \"train_class_file\": \"train_true_classes.txt\",\n",
    "    \"global_rules_outfile\": \"out/fidexglorules_1_rules.json\",\n",
    "    \"attributes_file\": \"attributes.txt\",\n",
    "    \"weights_file\": \"out/weights.wts\",\n",
    "    \"console_file\": \"out/fidexGloRules_1_console.out\",\n",
    "    \"nb_attributes\": 31,\n",
    "    \"nb_classes\": 7,\n",
    "    \"nb_quant_levels\": 50,\n",
    "    \"heuristic\": 1,\n",
    "    \"max_iterations\": 10,\n",
    "    \"min_covering\": 2,\n",
    "    \"max_failed_attempts\": 30,\n",
    "    \"nb_threads\": 4,\n",
    "    \"positive_class_index\": 1,\n",
    "    \"seed\": 0,\n",
    "    \"decision_threshold\": -1.0,\n",
    "    \"dropout_hyp\": 0.5,\n",
    "    \"dropout_dim\": 0.5,\n",
    "    \"min_fidelity\": 1.0,\n",
    "    \"normalization_indices\": [0,1,2,5,9,7],\n",
    "    \"mus\": [0.6,0.21,2.1,5.00002,2.3,7.1],\n",
    "    \"sigmas\": [0,0,2,5,2,7]\n",
    "}"
   ]
  },
  {
   "cell_type": "markdown",
   "id": "d8a2904c",
   "metadata": {},
   "source": [
    "This JSON configuration file, that you can find inside [our repository](https://github.com/HES-XPLAIN/dimlpfidex/blob/main/tests/templates/config_fidexGloRules_1.json), is a file that is used to test the sanity of our algorithm named FidexGloRules. As you can see, there's a lot of things going on here. In this case, most of it are numeric values to tweak the behaviour of the algorithm itself and the other part are file paths that contain necessary data to feed the algorithm and thereby make it work for us. In this section, we'll not dive into parameters details, this will be detailed inside our dedicated documentation: **LINK TO DOC**.\n",
    "\n",
    "\n",
    "Now that we've explored the purpose and content of the JSON configuration file for testing our `FidexGloRules` algorithm, let's move on to understand how configuration files offer distinct advantages by simplifying lengthy command lines."
   ]
  },
  {
   "cell_type": "markdown",
   "id": "457fb44c",
   "metadata": {},
   "source": [
    "# Understanding the advantages of configuration files.\n",
    "Before JSON configuration files where added as a feature, the only way to use one of our algorithms was to call it and specify all arguments along with it. This was a pain sometimes, espacially when you're dealing directly with program binaries. This is because, to use one of them, you have to open a command line interface and type the name of the program followed by a couple of arguments (could be 5, 10 or even 24 like the examples shown below). This could lead to command lines like this one:  "
   ]
  },
  {
   "cell_type": "code",
   "execution_count": null,
   "id": "00671580",
   "metadata": {
    "vscode": {
     "languageId": "shellscript"
    }
   },
   "outputs": [],
   "source": [
    "bin/fidexGloRules --train_data_file datanormTrain.txt --train_pred_file predTrain.out --train_class_file dataclass2Train.txt --weights_file weights.wts --nb_attributes 16 --nb_classes 2 --heuristic 1 --global_rules_outfile globalRules.rls --root_folder dimlp/datafiles"
   ]
  },
  {
   "cell_type": "markdown",
   "id": "bb88f0d7",
   "metadata": {},
   "source": [
    "As you can imagine, while this approach is functional, it's not particularly practical. For those familiar with using Command Line Interfaces (CLI), executing commands like this can be a huge pain, prone to spelling errors and often resulting in time-consuming mistakes. To illustrate, let's compare four ways of executing the `fidexGloRules` algorithm: two via CLI and two others using Python scripts. We'll start with command line examples:"
   ]
  },
  {
   "cell_type": "code",
   "execution_count": null,
   "id": "170bfbd4",
   "metadata": {
    "vscode": {
     "languageId": "shellscript"
    }
   },
   "outputs": [],
   "source": [
    "# without configuration file (feel free to slide to the right)\n",
    "bin/fidexGloRules --root_folder tests/dataset/data --train_data_file train.txt --train_pred_file out/dimlp_train.out --train_class_file train_true_classes.txt --global_rules_outfile out/fidexglorules_1_rules.json --attributes_file attributes.txt --weights_file out/weights.wts --nb_attributes 31 --nb_classes 7 --nb_quant_levels 50 --heuristic 1 --max_iterations 10 --min_covering 2 --max_failed_attempts 30 --nb_threads 4 --positive_class_index 1 --seed 0 --decision_threshold -1.0 --dropout_hyp 0.5 --dropout_dim 0.5 --min_fidelity 1.0 --normalization_indices \"[0,1,2,5,9,7]\" --mus \"[0.6,0.21,2.1,5.00002,2.3,7.1]\" --sigmas \"[0,0,2,5,2,7]\"\n",
    "\n",
    "# with configuration file (no need to slide)\n",
    "bin/fidexGloRules --json_config_file tests/templates/config_fidexGloRules_1.json"
   ]
  },
  {
   "cell_type": "markdown",
   "id": "c81d7252",
   "metadata": {},
   "source": []
  },
  {
   "cell_type": "markdown",
   "id": "49bba0fc",
   "metadata": {},
   "source": [
    "Similar procedures apply when using our Python wrappers:"
   ]
  },
  {
   "cell_type": "code",
   "execution_count": null,
   "id": "21e5ef95",
   "metadata": {},
   "outputs": [],
   "source": [
    "from dimlpfidex import fidex\n",
    "\n",
    "# without configuration file\n",
    "fidex.fidexGloRules(\"--root_folder tests/dataset/data --train_data_file train.txt --train_pred_file out/dimlp_train.out --train_class_file train_true_classes.txt --global_rules_outfile out/fidexglorules_1_rules.json --attributes_file attributes.txt --weights_file out/weights.wts --nb_attributes 31 --nb_classes 7 --nb_quant_levels 50 --heuristic 1 --max_iterations 10 --min_covering 2 --max_failed_attempts 30 --nb_threads 4 --positive_class_index 1 --seed 0 --decision_threshold -1.0 --dropout_hyp 0.5 --dropout_dim 0.5 --min_fidelity 1.0 --normalization_indices [0,1,2,5,9,7] --mus [0.6,0.21,2.1,5.00002,2.3,7.1] --sigmas [0,0,2,5,2,7]\")\n",
    "\n",
    "# with configuration file\n",
    "fidex.fidexGloRules(\"--json_config_file tests/templates/config_fidexGloRules_1.json\")"
   ]
  },
  {
   "cell_type": "markdown",
   "id": "1b2eda43",
   "metadata": {},
   "source": [
    "\n",
    "In summary, transitioning from manual command-line inputs to the use of JSON configuration files significantly improves the user experience, making it more straightforward and error-resistant. Now we've seen the why configuration files can be a game changer, let's dive into the Dimlpfidex GUI, the tool designed to take this ease of use even further. With its intuitive interface and ability to generate JSON files effortlessly, it enhances the way users interact with our algorithms."
   ]
  },
  {
   "cell_type": "markdown",
   "id": "aabc1bdd",
   "metadata": {
    "jp-MarkdownHeadingCollapsed": true
   },
   "source": [
    "# Introduction to the Dimlpfidex GUI and its main features.\n",
    "The Dimlpfidex Graphical User Interface (GUI) is your go-to tool for effortlessly generating JSON configuration files, regardless of whether you're on `Windows`, `Linux`, or using the `web application`. Let's take a closer look at its main features and how it simplifies the configuration process.\n",
    "\n",
    "<center><img src=\"imgs/gui_mainpage.png\" width=\"60%\" /></center>\n",
    "<center><i>Welcome page</i></center>\n",
    "<br><br>\n",
    "\n",
    "The welcome page greets you with a simple message. At the top, a navigation bar organizes algorithms into main categories. Each category contains various forms specific to individual algorithms, accessible via a sub-navigation bar below that appears when accessing a category.\n",
    "\n",
    "<center><img src=\"imgs/gui_dimlpsection.png\" width=\"60%\" /></center>\n",
    "<center><i>DIMLP algorithms forms</i></center>\n",
    "<br><br>\n",
    "\n",
    "<center><img src=\"imgs/gui_fidexsection.png\" width=\"60%\" /></center>\n",
    "<center><i>FIDEX algorithms forms</i></center>\n",
    "<br><br>\n",
    "\n",
    "<center><img src=\"imgs/gui_pythonsection.png\" width=\"60%\" /></center>\n",
    "<center><i>Python wrappers forms</i></center>\n",
    "<br><br>\n",
    "\n",
    "A notable feature of the GUI is the glossary, which provides detailed information about each field within the forms. Users can access descriptions, data types, and properties such as default values, aiding in understanding and configuring parameters effectively.\n",
    "\n",
    "<center><img src=\"imgs/gui_glossarysection_1.png\" width=\"60%\" /></center>\n",
    "<center><i>Main view of the glossary</i></center>\n",
    "<br><br>\n",
    "\n",
    "<center><img src=\"imgs/gui_glossarysection_2.png\" width=\"60%\" /></center>\n",
    "<center><i>Detailed view of the DimlpCls form glossary</i></center>\n",
    "<br><br>\n",
    "\n",
    "Now that we've seen a general overview of the Dimlpfidex GUI and its main features, let's go deeper into the specific features of its forms. The next chapter will explore how forms within the GUI eases the configuration process for different algorithms."
   ]
  },
  {
   "cell_type": "markdown",
   "id": "c80216d2",
   "metadata": {},
   "source": [
    "# Exploring Forms specific features.\n",
    "Let's take a closer look at the specific features of the forms within the GUI. Each form is designed with multiple fields to input the necessary information for generating a JSON configuration file. These fields are tailored to the type of data expected, known as the field's datatype.\n",
    "\n",
    "For instance, we have numeric fields, such as integers or double precision floating points, which may come with minimum and maximum value constraints to ensure data integrity:\n",
    "\n",
    "<center><img src=\"imgs/gui_fieldnumeric.png\" width=\"60%\" /></center>\n",
    "<center><i>Numeric field</i></center>\n",
    "<br><br>\n",
    "\n",
    "Another example is the file path field, which allows users (excluding the web version due to browser limitations) to select a file and automatically input its absolute path.\n",
    "\n",
    "<center><img src=\"imgs/gui_fieldfilepath.png\" width=\"60%\"/></center>\n",
    "<center><i>File path field</i></center>\n",
    "<br><br>\n",
    "\n",
    "Let's break down the components of a field:\n",
    "\n",
    "<center><img src=\"imgs/gui_fieldanatomy.png\" width=\"60%\"/></center>\n",
    "<center><i>Field anatomy</i></center>\n",
    "<br><br>\n",
    "Here's what each index represents:\n",
    "\n",
    "1. **Field name**: Indicates the name or label of the field.\n",
    "2. **File explorer button**: Allows users to browse and select a file (available for path-related fields, excluding the web application).\n",
    "3. **Default button**: Clicking on this button, if colored, automatically adds a default value to the field.\n",
    "4. **Information icon**: When hovered over with the mouse, provides a description of the field.\n",
    "5. **Required icon**: If colored, indicates that the field must be filled out and cannot be left empty.\n",
    "\n",
    "Here's a breakdown of each field type: *(last updated 2024-04-16)*\n",
    "\n",
    "- **integer**: Accepts integer values within a specified range.\n",
    "- **Double precision**: Accepts double precision floating point values.\n",
    "- **String**: Accepts text strings.\n",
    "- **Restricted choice string**: Accepts predefined choices from a list.\n",
    "- **File path**: Allows selection of a file and inputs its absolute path.\n",
    "- **Boolean**: Accepts true/false values in shape of checkboxes.\n",
    "- **Directory path**: Allows selection of a directory and inputs its absolute path.\n",
    "- **Dictionary**: Accepts key-value pairs.\n",
    "- **List of string**: Accepts a list of text strings.\n",
    "- **List of integer**: Accepts a list of integer values.\n",
    "- **List of file path**: Accepts a list of file paths.\n",
    "- **List of double precision**: Accepts a list of double precision floating point values.\n",
    "\n",
    "These field types ensure flexibility and accuracy in inputting data, catering to various requirements across different algorithms and configurations."
   ]
  },
  {
   "cell_type": "markdown",
   "id": "9c05b11d",
   "metadata": {
    "jp-MarkdownHeadingCollapsed": true
   },
   "source": [
    "# Installing Dimlpfidex GUI in your machine.\n",
    "\n",
    "Let's walk you through installing the Dimlpfidex GUI on your machine, whether you're using `Windows`, `Linux`, or the `web application`.\n",
    "\n",
    "### 1. Windows\n",
    "To install on Windows, download the latest release from our [GitHub repository](https://github.com/HES-XPLAIN/dimlpfidex/releases). Once downloaded, unzip the archive and run the `dimlpfidex_gui.exe` file. Refer to the `readme.md` file for further instructions. If successful, you'll see the Dimlpfidex GUI main menu on your screen.\n",
    "\n",
    "### 2. Linux\n",
    "For Linux installation, download the latest release from our [GitHub repository](https://github.com/HES-XPLAIN/dimlpfidex/releases). Unzip the archive and run the `dimlpfidex_gui` file. Check the `readme.md` file for additional guidance. If the installation is successful, you'll find the Dimlpfidex GUI main menu accessible.\n",
    "\n",
    "### 3. Web Application\n",
    "Please note that the web application may not offer all features available in the desktop versions due to technical limitations.\n",
    "\n",
    "To use the web application, download the latest release from our [GitHub repository](https://github.com/HES-XPLAIN/dimlpfidex/releases). Unzip the archive and run the `dimlpfidex_gui` file. Consult the `readme.md` file for detailed instructions. If installation is successful, you'll be greeted with the Dimlpfidex GUI main menu on your browser at `localhost:8000`.\n",
    "\n",
    "Once installed, you're ready to move on to the next chapter and try your hand at generating a configuration file!"
   ]
  },
  {
   "cell_type": "markdown",
   "id": "b93902db",
   "metadata": {},
   "source": [
    "# Generating JSON Configuration Files with the Dimlpfidex GUI\n",
    "\n",
    "In this chapter, we'll walk through the process of creating a configuration file for the Fidex algorithm using the Dimlpfidex GUI. But before we dive in, let's familiarize ourselves with the files we'll need:\n",
    "\n",
    "- **train.txt**: Contains the training data.\n",
    "- **test.txt**: Contains the test data.\n",
    "- **attributes.txt**: Provides attributes and class labels.\n",
    "- **weights.wts**: Stores pre-computed weights from a model.\n",
    "- **train_true_classes.txt**: Contains the true classes for the training data.\n",
    "- **test_true_classes.txt**: Contains the true classes for the test data.\n",
    "- **dimlp_train.out**: Contains predictions made with the training data.\n",
    "- **dimlp_test.out**: Contains predictions made with the test data.\n",
    "\n",
    "Our objective is to create a configuration file that references these files for executing the Fidex algorithm.\n",
    "\n",
    "To begin, let's navigate to the `Fidex` form. Click on the **Fidex** section in the **main navigation bar**, then select **Fidex** in the **sub-navigation bar**.\n",
    "\n",
    "Upon entering the form, you'll notice various input fields, lets complete it by following the next steps: \n",
    "\n",
    "1. Start by filling the `Root folder` input. This field indicates the directory where all required files are located or will be placed. For our demonstration, let's choose the directory containing our files: `data/GUIDataset/` for Linux or `data\\GUIDataset\\` for Windows. Although the field appears optional, it's recommended to specify the `Root folder` to avoid path errors. Otherwise, provide complete paths for all required files.\n",
    "2. Next up is the `Train data file`, which requests the file containing the training data. Enter `train.txt` or its path, like `path/to/notebook/data/train.txt`, if `Root folder` is not specified.\n",
    "3. Proceed to the `Train prediction file`, where predictions made with the training data are stored. Enter `dimlp_train.out` or its absolute path.\n",
    "4. Similarly, fill in the `Train true classes file` with `train_true_classes.txt` or its path.\n",
    "5. For the `Test data file`, enter `test.txt` or its absolute path.\n",
    "6. Next, specify the `Weights file` containing pre-computed weights from a model. We'll use `weights.wts`.\n",
    "7. If available, enter the path of the `Rules file`, which contains pre-computed rules used by the algorithm. For now, we'll leave this blank as it's not required.\n",
    "8. In the `Rule output file`, specify the file name/path where generated rules will be saved during execution. You can choose `out/fidex_rules.txt` for text format or `out/fidex_rules.json` for JSON format.\n",
    "9. Designate the `number of attributes` and `number of classes` in the dataset. Since our dataset has **38 columns**, with **31 as attributes** and **7 as classes**, specify **31** for attributes and **7** for classes.\n",
    "10. For the `Test prediction file`, enter `dimlp_test.out`.\n",
    "11. Enter the path for the `Test true classes file` using `test_true_classes.txt`.\n",
    "12. Specify the `Attributes file` with `attributes.txt`.\n",
    "13. Leave the `Output stats file` and `Console file` blank.\n",
    "14. For numerical fields, use default values by clicking the `default value` button if available. Otherwise, leave them blank.\n",
    "\n",
    "Finally, click on the `generate` button and wait for the file to be generated. You'll receive feedback on the success or failure of the process at the bottom of the screen.\n",
    "\n",
    "By following this tutorial, you should now have a fully generated configuration file ready for use. Let's move on to the next chapter and attempt to run the Fidex algorithm with it."
   ]
  },
  {
   "cell_type": "markdown",
   "id": "44c3882a",
   "metadata": {},
   "source": [
    "# Testing running algorithms using a generated configuration file.\n",
    "\n",
    "If you followed all instructions in the precedent chapter, you should now be in posession of a JSON configuration file ready to be used by the Fidex algorithm. To prove if its working, lets try to run the algorithm with it like so (replace the path with the one that fits your configuration file):"
   ]
  },
  {
   "cell_type": "code",
   "execution_count": null,
   "id": "dca14f9c",
   "metadata": {
    "vscode": {
     "languageId": "shellscript"
    }
   },
   "outputs": [],
   "source": [
    "bin/fidex --json_config_file path/to/your/config.json"
   ]
  },
  {
   "cell_type": "markdown",
   "id": "4f5d4aca",
   "metadata": {},
   "source": [
    "You can also try with our python wrapper:"
   ]
  },
  {
   "cell_type": "code",
   "execution_count": null,
   "id": "2f9b9074",
   "metadata": {},
   "outputs": [],
   "source": [
    "from dimlpfidex import fidex\n",
    "\n",
    "fidex.fidex(\"--json_config_file path/to/your/config.json\")"
   ]
  },
  {
   "cell_type": "code",
   "execution_count": null,
   "id": "4e2d9959-00dd-47d5-a8b4-8c057fac72e9",
   "metadata": {},
   "outputs": [],
   "source": []
  }
 ],
 "metadata": {
  "kernelspec": {
   "display_name": "Python 3 (ipykernel)",
   "language": "python",
   "name": "python3"
  },
  "language_info": {
   "codemirror_mode": {
    "name": "ipython",
    "version": 3
   },
   "file_extension": ".py",
   "mimetype": "text/x-python",
   "name": "python",
   "nbconvert_exporter": "python",
   "pygments_lexer": "ipython3",
   "version": "3.10.12"
  }
 },
 "nbformat": 4,
 "nbformat_minor": 5
}
